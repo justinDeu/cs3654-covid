{
 "cells": [
  {
   "cell_type": "code",
   "execution_count": 72,
   "metadata": {
    "ExecuteTime": {
     "end_time": "2020-04-20T16:10:45.918088Z",
     "start_time": "2020-04-20T16:10:45.912360Z"
    }
   },
   "outputs": [],
   "source": [
    "import re\n",
    "import numpy as np\n",
    "import pandas as pd\n",
    "import matplotlib.pyplot as plt\n",
    "import matplotlib.dates as mdates\n",
    "\n",
    "from itertools import groupby\n",
    "\n",
    "# Fixing graphs for Justin, if this causes errors, just comment it out \n",
    "try: \n",
    "    from jupyterthemes import jtplot\n",
    "    jtplot.style(theme='monokai', context='notebook', ticks=True, grid=False)\n",
    "except ImportError:\n",
    "    pass"
   ]
  },
  {
   "cell_type": "markdown",
   "metadata": {},
   "source": [
    "# Preparing Data"
   ]
  },
  {
   "cell_type": "markdown",
   "metadata": {},
   "source": [
    "## Loading Data"
   ]
  },
  {
   "cell_type": "code",
   "execution_count": 51,
   "metadata": {
    "ExecuteTime": {
     "end_time": "2020-04-20T15:55:30.612821Z",
     "start_time": "2020-04-20T15:55:30.609941Z"
    }
   },
   "outputs": [],
   "source": [
    "# Loading in the data from FILE\n",
    "DATA_FILE = './six_politicians.csv'"
   ]
  },
  {
   "cell_type": "code",
   "execution_count": 54,
   "metadata": {
    "ExecuteTime": {
     "end_time": "2020-04-20T15:55:46.388816Z",
     "start_time": "2020-04-20T15:55:46.371045Z"
    }
   },
   "outputs": [
    {
     "data": {
      "text/plain": [
       "((2498, 8),\n",
       " Name                      object\n",
       " Username                  object\n",
       " Text                      object\n",
       " Created           datetime64[ns]\n",
       " Favorite Count             int64\n",
       " Retweet Count              int64\n",
       " Retweeted                   bool\n",
       " Media Attached              bool\n",
       " dtype: object)"
      ]
     },
     "execution_count": 54,
     "metadata": {},
     "output_type": "execute_result"
    }
   ],
   "source": [
    "# Reading the data \n",
    "df = pd.read_csv(DATA_FILE, index_col=0)\n",
    "\n",
    "# Converting the data Created to a datetime object\n",
    "df['Created'] = pd.to_datetime(df['Created'])\n",
    "\n",
    "df.shape, df.dtypes"
   ]
  },
  {
   "cell_type": "code",
   "execution_count": 57,
   "metadata": {
    "ExecuteTime": {
     "end_time": "2020-04-20T15:56:13.131247Z",
     "start_time": "2020-04-20T15:56:13.125570Z"
    }
   },
   "outputs": [
    {
     "name": "stdout",
     "output_type": "stream",
     "text": [
      "                Name ---> Twitter Handle\n",
      "----------------------------------------\n",
      "     Donald J. Trump ---> realDonaldTrump\n",
      "        Ron DeSantis ---> GovRonDeSantis\n",
      "         Marco Rubio ---> marcorubio\n",
      "           Joe Biden ---> JoeBiden\n",
      "        Andrew Cuomo ---> NYGovCuomo\n",
      "      Bernie Sanders ---> BernieSanders\n"
     ]
    }
   ],
   "source": [
    "# Displaying the list of people and their twitter handles\n",
    "names_handles = zip(df['Name'].unique().tolist(), df['Username'].unique().tolist())\n",
    "\n",
    "print(f\"{'Name':>20} ---> Twitter Handle\")\n",
    "print('----------------------------------------')\n",
    "for n, h in names_handles:\n",
    "    print(f'{n:>20} ---> {h}')"
   ]
  },
  {
   "cell_type": "code",
   "execution_count": 56,
   "metadata": {
    "ExecuteTime": {
     "end_time": "2020-04-20T15:55:58.602244Z",
     "start_time": "2020-04-20T15:55:58.590016Z"
    }
   },
   "outputs": [
    {
     "data": {
      "text/html": [
       "<div>\n",
       "<style scoped>\n",
       "    .dataframe tbody tr th:only-of-type {\n",
       "        vertical-align: middle;\n",
       "    }\n",
       "\n",
       "    .dataframe tbody tr th {\n",
       "        vertical-align: top;\n",
       "    }\n",
       "\n",
       "    .dataframe thead th {\n",
       "        text-align: right;\n",
       "    }\n",
       "</style>\n",
       "<table border=\"1\" class=\"dataframe\">\n",
       "  <thead>\n",
       "    <tr style=\"text-align: right;\">\n",
       "      <th></th>\n",
       "      <th>Name</th>\n",
       "      <th>Username</th>\n",
       "      <th>Text</th>\n",
       "      <th>Created</th>\n",
       "      <th>Favorite Count</th>\n",
       "      <th>Retweet Count</th>\n",
       "      <th>Retweeted</th>\n",
       "      <th>Media Attached</th>\n",
       "    </tr>\n",
       "  </thead>\n",
       "  <tbody>\n",
       "    <tr>\n",
       "      <th>0</th>\n",
       "      <td>Donald J. Trump</td>\n",
       "      <td>realDonaldTrump</td>\n",
       "      <td>RT @WhiteHouse: LIVE: Press Briefing with Coro...</td>\n",
       "      <td>2020-04-19 22:25:08</td>\n",
       "      <td>0</td>\n",
       "      <td>3060</td>\n",
       "      <td>False</td>\n",
       "      <td>False</td>\n",
       "    </tr>\n",
       "    <tr>\n",
       "      <th>1</th>\n",
       "      <td>Donald J. Trump</td>\n",
       "      <td>realDonaldTrump</td>\n",
       "      <td>White House News Conference at 5:45. Thank you!</td>\n",
       "      <td>2020-04-19 20:13:28</td>\n",
       "      <td>62328</td>\n",
       "      <td>12827</td>\n",
       "      <td>False</td>\n",
       "      <td>False</td>\n",
       "    </tr>\n",
       "    <tr>\n",
       "      <th>2</th>\n",
       "      <td>Donald J. Trump</td>\n",
       "      <td>realDonaldTrump</td>\n",
       "      <td>Thank you to my boy! https://t.co/GAFe1AdZpt</td>\n",
       "      <td>2020-04-19 19:38:09</td>\n",
       "      <td>70865</td>\n",
       "      <td>25015</td>\n",
       "      <td>False</td>\n",
       "      <td>False</td>\n",
       "    </tr>\n",
       "    <tr>\n",
       "      <th>3</th>\n",
       "      <td>Donald J. Trump</td>\n",
       "      <td>realDonaldTrump</td>\n",
       "      <td>“On February 19th there was a Democratic Debat...</td>\n",
       "      <td>2020-04-19 19:18:05</td>\n",
       "      <td>63158</td>\n",
       "      <td>19546</td>\n",
       "      <td>False</td>\n",
       "      <td>False</td>\n",
       "    </tr>\n",
       "    <tr>\n",
       "      <th>4</th>\n",
       "      <td>Donald J. Trump</td>\n",
       "      <td>realDonaldTrump</td>\n",
       "      <td>Great book by @SenatorTimScott! https://t.co/9...</td>\n",
       "      <td>2020-04-19 19:15:28</td>\n",
       "      <td>20342</td>\n",
       "      <td>5419</td>\n",
       "      <td>False</td>\n",
       "      <td>False</td>\n",
       "    </tr>\n",
       "  </tbody>\n",
       "</table>\n",
       "</div>"
      ],
      "text/plain": [
       "              Name         Username  \\\n",
       "0  Donald J. Trump  realDonaldTrump   \n",
       "1  Donald J. Trump  realDonaldTrump   \n",
       "2  Donald J. Trump  realDonaldTrump   \n",
       "3  Donald J. Trump  realDonaldTrump   \n",
       "4  Donald J. Trump  realDonaldTrump   \n",
       "\n",
       "                                                Text             Created  \\\n",
       "0  RT @WhiteHouse: LIVE: Press Briefing with Coro... 2020-04-19 22:25:08   \n",
       "1    White House News Conference at 5:45. Thank you! 2020-04-19 20:13:28   \n",
       "2       Thank you to my boy! https://t.co/GAFe1AdZpt 2020-04-19 19:38:09   \n",
       "3  “On February 19th there was a Democratic Debat... 2020-04-19 19:18:05   \n",
       "4  Great book by @SenatorTimScott! https://t.co/9... 2020-04-19 19:15:28   \n",
       "\n",
       "   Favorite Count  Retweet Count  Retweeted  Media Attached  \n",
       "0               0           3060      False           False  \n",
       "1           62328          12827      False           False  \n",
       "2           70865          25015      False           False  \n",
       "3           63158          19546      False           False  \n",
       "4           20342           5419      False           False  "
      ]
     },
     "execution_count": 56,
     "metadata": {},
     "output_type": "execute_result"
    }
   ],
   "source": [
    "df.head()"
   ]
  },
  {
   "cell_type": "markdown",
   "metadata": {},
   "source": [
    "## Preprocessing"
   ]
  },
  {
   "cell_type": "markdown",
   "metadata": {},
   "source": [
    "### Removing Keywords"
   ]
  },
  {
   "cell_type": "code",
   "execution_count": 58,
   "metadata": {
    "ExecuteTime": {
     "end_time": "2020-04-20T15:56:18.117888Z",
     "start_time": "2020-04-20T15:56:18.115423Z"
    }
   },
   "outputs": [],
   "source": [
    "KEYWORD_FILE = './covid_keywords.txt'"
   ]
  },
  {
   "cell_type": "code",
   "execution_count": 62,
   "metadata": {
    "ExecuteTime": {
     "end_time": "2020-04-20T15:56:39.851049Z",
     "start_time": "2020-04-20T15:56:39.845446Z"
    }
   },
   "outputs": [
    {
     "data": {
      "text/plain": [
       "(61, ['unemployment', 'front line', 'testing', 'health', 'public health'])"
      ]
     },
     "execution_count": 62,
     "metadata": {},
     "output_type": "execute_result"
    }
   ],
   "source": [
    "# Loading keywords\n",
    "keywords = []\n",
    "\n",
    "with open(KEYWORD_FILE, 'r') as f:\n",
    "    line = f.readline()\n",
    "    while line:\n",
    "        keywords.append(line.strip())\n",
    "        line = f.readline()\n",
    "\n",
    "len(keywords), keywords[:5]"
   ]
  },
  {
   "cell_type": "code",
   "execution_count": 63,
   "metadata": {
    "ExecuteTime": {
     "end_time": "2020-04-20T15:56:42.284345Z",
     "start_time": "2020-04-20T15:56:42.226593Z"
    }
   },
   "outputs": [
    {
     "data": {
      "text/plain": [
       "((2498, 8), (977, 8))"
      ]
     },
     "execution_count": 63,
     "metadata": {},
     "output_type": "execute_result"
    }
   ],
   "source": [
    "# Making keywords regex safe then filtering df by them\n",
    "safe_keywords = [re.escape(word) for word in keywords]\n",
    "clean_df = df[df['Text'].str.contains('|'.join(safe_keywords))]\n",
    "\n",
    "df.shape, clean_df.shape"
   ]
  },
  {
   "cell_type": "markdown",
   "metadata": {},
   "source": [
    "# Analysis"
   ]
  },
  {
   "cell_type": "markdown",
   "metadata": {},
   "source": [
    "## Summary Statistics"
   ]
  },
  {
   "cell_type": "code",
   "execution_count": 73,
   "metadata": {
    "ExecuteTime": {
     "end_time": "2020-04-20T16:12:57.637674Z",
     "start_time": "2020-04-20T16:12:57.633844Z"
    }
   },
   "outputs": [],
   "source": [
    "# counts tweets per user\n",
    "def count_tweets_per_user(df):\n",
    "    counts = []\n",
    "    \n",
    "    for user in df['Username'].unique():\n",
    "        counts.append((user, df[df['Username'] == user].shape[0]))\n",
    "    \n",
    "    return counts"
   ]
  },
  {
   "cell_type": "code",
   "execution_count": 98,
   "metadata": {
    "ExecuteTime": {
     "end_time": "2020-04-20T16:32:02.715835Z",
     "start_time": "2020-04-20T16:32:02.700299Z"
    }
   },
   "outputs": [
    {
     "data": {
      "text/plain": [
       "[('BernieSanders', 558, 204),\n",
       " ('GovRonDeSantis', 40, 13),\n",
       " ('JoeBiden', 500, 206),\n",
       " ('NYGovCuomo', 620, 375),\n",
       " ('marcorubio', 480, 114),\n",
       " ('realDonaldTrump', 300, 65)]"
      ]
     },
     "execution_count": 98,
     "metadata": {},
     "output_type": "execute_result"
    }
   ],
   "source": [
    "from itertools import groupby\n",
    "\n",
    "# counting tweets for each user before/after filtering by keywords\n",
    "num_tweets_before_filtering = count_tweets_per_user(df)\n",
    "num_tweets_after_filtering = count_tweets_per_user(clean_df)\n",
    "\n",
    "# joining the two lists together \n",
    "num_tweets_before_after = num_tweets_before_filtering + num_tweets_after_filtering\n",
    "\n",
    "# sorting by username so users' counts are next to each other, needed for groupby\n",
    "num_tweets_before_after = sorted(num_tweets_before_after)\n",
    "\n",
    "d = groupby(num_tweets_before_after, lambda x: x[0])\n",
    "counts = []\n",
    "\n",
    "for x in d:\n",
    "    f = next(x[1])[1]\n",
    "    s = next(x[1])[1]\n",
    "    counts.append((x[0], max(f, s), min(f, s)))\n",
    "\n",
    "counts"
   ]
  },
  {
   "cell_type": "markdown",
   "metadata": {},
   "source": [
    "## NLTK Sentiment Analysis"
   ]
  },
  {
   "cell_type": "code",
   "execution_count": 28,
   "metadata": {
    "ExecuteTime": {
     "end_time": "2020-04-20T15:48:23.389979Z",
     "start_time": "2020-04-20T15:48:22.418276Z"
    }
   },
   "outputs": [
    {
     "name": "stdout",
     "output_type": "stream",
     "text": [
      "Defaulting to user installation because normal site-packages is not writeable\n",
      "Requirement already satisfied: nltk in /usr/local/lib/python3.8/site-packages (3.5)\n",
      "Requirement already satisfied: click in /usr/local/lib/python3.8/site-packages (from nltk) (7.1.1)\n",
      "Requirement already satisfied: tqdm in /usr/local/lib/python3.8/site-packages (from nltk) (4.45.0)\n",
      "Requirement already satisfied: joblib in /usr/local/lib/python3.8/site-packages (from nltk) (0.14.1)\n",
      "Requirement already satisfied: regex in /usr/local/lib/python3.8/site-packages (from nltk) (2020.4.4)\n"
     ]
    }
   ],
   "source": [
    "# Installs nltk if you don't have it\n",
    "!pip install nltk"
   ]
  },
  {
   "cell_type": "code",
   "execution_count": 29,
   "metadata": {
    "ExecuteTime": {
     "end_time": "2020-04-20T15:48:26.851811Z",
     "start_time": "2020-04-20T15:48:26.249145Z"
    }
   },
   "outputs": [
    {
     "name": "stderr",
     "output_type": "stream",
     "text": [
      "[nltk_data] Downloading package vader_lexicon to\n",
      "[nltk_data]     /home/user/nltk_data...\n"
     ]
    }
   ],
   "source": [
    "# import and download lexicon\n",
    "import nltk\n",
    "nltk.download('vader_lexicon')\n",
    "\n",
    "from nltk.sentiment.vader import SentimentIntensityAnalyzer"
   ]
  },
  {
   "cell_type": "code",
   "execution_count": 30,
   "metadata": {
    "ExecuteTime": {
     "end_time": "2020-04-20T15:48:33.861859Z",
     "start_time": "2020-04-20T15:48:33.832066Z"
    }
   },
   "outputs": [],
   "source": [
    "# Creating the Analyzer\n",
    "sid = SentimentIntensityAnalyzer()"
   ]
  },
  {
   "cell_type": "code",
   "execution_count": 31,
   "metadata": {
    "ExecuteTime": {
     "end_time": "2020-04-20T15:48:37.171912Z",
     "start_time": "2020-04-20T15:48:34.846638Z"
    }
   },
   "outputs": [],
   "source": [
    "def sentiment(row):\n",
    "    sent = sid.polarity_scores(row['Text'])\n",
    "    row['pos'] = sent['pos']\n",
    "    row['neg'] = sent['neg']\n",
    "    row['neu'] = sent['neu']\n",
    "    row['compound'] = sent['compound']\n",
    "    return row\n",
    "\n",
    "df = df.apply(lambda row: sentiment(row), axis=1)"
   ]
  },
  {
   "cell_type": "code",
   "execution_count": 32,
   "metadata": {
    "ExecuteTime": {
     "end_time": "2020-04-20T15:48:41.731608Z",
     "start_time": "2020-04-20T15:48:41.695250Z"
    }
   },
   "outputs": [],
   "source": [
    "#setting major_score to greater of pos/neg, if negative, multiplying by -1\n",
    "df['major_score'] = df[['pos', 'neg']].apply(lambda row: row['pos'] if row['pos'] >= row['neg'] else row['neg'] * -1, axis=1)"
   ]
  },
  {
   "cell_type": "code",
   "execution_count": 33,
   "metadata": {
    "ExecuteTime": {
     "end_time": "2020-04-20T15:48:42.903676Z",
     "start_time": "2020-04-20T15:48:42.888285Z"
    }
   },
   "outputs": [
    {
     "data": {
      "text/html": [
       "<div>\n",
       "<style scoped>\n",
       "    .dataframe tbody tr th:only-of-type {\n",
       "        vertical-align: middle;\n",
       "    }\n",
       "\n",
       "    .dataframe tbody tr th {\n",
       "        vertical-align: top;\n",
       "    }\n",
       "\n",
       "    .dataframe thead th {\n",
       "        text-align: right;\n",
       "    }\n",
       "</style>\n",
       "<table border=\"1\" class=\"dataframe\">\n",
       "  <thead>\n",
       "    <tr style=\"text-align: right;\">\n",
       "      <th></th>\n",
       "      <th>Name</th>\n",
       "      <th>Username</th>\n",
       "      <th>Text</th>\n",
       "      <th>Created</th>\n",
       "      <th>Favorite Count</th>\n",
       "      <th>Retweet Count</th>\n",
       "      <th>Retweeted</th>\n",
       "      <th>Media Attached</th>\n",
       "      <th>pos</th>\n",
       "      <th>neg</th>\n",
       "      <th>neu</th>\n",
       "      <th>compound</th>\n",
       "      <th>major_score</th>\n",
       "    </tr>\n",
       "  </thead>\n",
       "  <tbody>\n",
       "    <tr>\n",
       "      <th>0</th>\n",
       "      <td>Donald J. Trump</td>\n",
       "      <td>realDonaldTrump</td>\n",
       "      <td>RT @WhiteHouse: LIVE: Press Briefing with Coro...</td>\n",
       "      <td>2020-04-19 22:25:08</td>\n",
       "      <td>0</td>\n",
       "      <td>3060</td>\n",
       "      <td>False</td>\n",
       "      <td>False</td>\n",
       "      <td>0.0</td>\n",
       "      <td>0.000</td>\n",
       "      <td>1.000</td>\n",
       "      <td>0.0000</td>\n",
       "      <td>0.000</td>\n",
       "    </tr>\n",
       "    <tr>\n",
       "      <th>10</th>\n",
       "      <td>Donald J. Trump</td>\n",
       "      <td>realDonaldTrump</td>\n",
       "      <td>RT @RepLeeZeldin: While @realDonaldTrump belie...</td>\n",
       "      <td>2020-04-19 18:11:27</td>\n",
       "      <td>0</td>\n",
       "      <td>5934</td>\n",
       "      <td>False</td>\n",
       "      <td>False</td>\n",
       "      <td>0.0</td>\n",
       "      <td>0.280</td>\n",
       "      <td>0.720</td>\n",
       "      <td>-0.7906</td>\n",
       "      <td>-0.280</td>\n",
       "    </tr>\n",
       "    <tr>\n",
       "      <th>12</th>\n",
       "      <td>Donald J. Trump</td>\n",
       "      <td>realDonaldTrump</td>\n",
       "      <td>RT @kimguilfoyle: “In responding to the outbre...</td>\n",
       "      <td>2020-04-19 18:08:54</td>\n",
       "      <td>0</td>\n",
       "      <td>3917</td>\n",
       "      <td>False</td>\n",
       "      <td>False</td>\n",
       "      <td>0.0</td>\n",
       "      <td>0.000</td>\n",
       "      <td>1.000</td>\n",
       "      <td>0.0000</td>\n",
       "      <td>0.000</td>\n",
       "    </tr>\n",
       "    <tr>\n",
       "      <th>16</th>\n",
       "      <td>Donald J. Trump</td>\n",
       "      <td>realDonaldTrump</td>\n",
       "      <td>RT @DonaldJTrumpJr: Germany’s largest newspape...</td>\n",
       "      <td>2020-04-19 17:34:39</td>\n",
       "      <td>0</td>\n",
       "      <td>18608</td>\n",
       "      <td>False</td>\n",
       "      <td>False</td>\n",
       "      <td>0.0</td>\n",
       "      <td>0.000</td>\n",
       "      <td>1.000</td>\n",
       "      <td>0.0000</td>\n",
       "      <td>0.000</td>\n",
       "    </tr>\n",
       "    <tr>\n",
       "      <th>17</th>\n",
       "      <td>Donald J. Trump</td>\n",
       "      <td>realDonaldTrump</td>\n",
       "      <td>RT @ArthurSchwartz: She calls it “the flu” and...</td>\n",
       "      <td>2020-04-19 17:33:49</td>\n",
       "      <td>0</td>\n",
       "      <td>8129</td>\n",
       "      <td>False</td>\n",
       "      <td>False</td>\n",
       "      <td>0.0</td>\n",
       "      <td>0.143</td>\n",
       "      <td>0.857</td>\n",
       "      <td>-0.6124</td>\n",
       "      <td>-0.143</td>\n",
       "    </tr>\n",
       "  </tbody>\n",
       "</table>\n",
       "</div>"
      ],
      "text/plain": [
       "               Name         Username  \\\n",
       "0   Donald J. Trump  realDonaldTrump   \n",
       "10  Donald J. Trump  realDonaldTrump   \n",
       "12  Donald J. Trump  realDonaldTrump   \n",
       "16  Donald J. Trump  realDonaldTrump   \n",
       "17  Donald J. Trump  realDonaldTrump   \n",
       "\n",
       "                                                 Text             Created  \\\n",
       "0   RT @WhiteHouse: LIVE: Press Briefing with Coro... 2020-04-19 22:25:08   \n",
       "10  RT @RepLeeZeldin: While @realDonaldTrump belie... 2020-04-19 18:11:27   \n",
       "12  RT @kimguilfoyle: “In responding to the outbre... 2020-04-19 18:08:54   \n",
       "16  RT @DonaldJTrumpJr: Germany’s largest newspape... 2020-04-19 17:34:39   \n",
       "17  RT @ArthurSchwartz: She calls it “the flu” and... 2020-04-19 17:33:49   \n",
       "\n",
       "    Favorite Count  Retweet Count  Retweeted  Media Attached  pos    neg  \\\n",
       "0                0           3060      False           False  0.0  0.000   \n",
       "10               0           5934      False           False  0.0  0.280   \n",
       "12               0           3917      False           False  0.0  0.000   \n",
       "16               0          18608      False           False  0.0  0.000   \n",
       "17               0           8129      False           False  0.0  0.143   \n",
       "\n",
       "      neu  compound  major_score  \n",
       "0   1.000    0.0000        0.000  \n",
       "10  0.720   -0.7906       -0.280  \n",
       "12  1.000    0.0000        0.000  \n",
       "16  1.000    0.0000        0.000  \n",
       "17  0.857   -0.6124       -0.143  "
      ]
     },
     "execution_count": 33,
     "metadata": {},
     "output_type": "execute_result"
    }
   ],
   "source": [
    "df.head()"
   ]
  },
  {
   "cell_type": "markdown",
   "metadata": {},
   "source": [
    "# Vizualizing Data"
   ]
  },
  {
   "cell_type": "code",
   "execution_count": 35,
   "metadata": {
    "ExecuteTime": {
     "end_time": "2020-04-20T15:48:50.355951Z",
     "start_time": "2020-04-20T15:48:50.331826Z"
    }
   },
   "outputs": [
    {
     "data": {
      "text/plain": [
       "((65, 13), (206, 13))"
      ]
     },
     "execution_count": 35,
     "metadata": {},
     "output_type": "execute_result"
    }
   ],
   "source": [
    "trump_df = df[df['Username'] == 'realDonaldTrump'].sort_values('Created')\n",
    "biden_df = df[df['Username'] == 'JoeBiden'].sort_values('Created')\n",
    "trump_df.shape, biden_df.shape"
   ]
  },
  {
   "cell_type": "code",
   "execution_count": 36,
   "metadata": {
    "ExecuteTime": {
     "end_time": "2020-04-20T15:49:17.039032Z",
     "start_time": "2020-04-20T15:49:17.022528Z"
    }
   },
   "outputs": [
    {
     "data": {
      "text/html": [
       "<div>\n",
       "<style scoped>\n",
       "    .dataframe tbody tr th:only-of-type {\n",
       "        vertical-align: middle;\n",
       "    }\n",
       "\n",
       "    .dataframe tbody tr th {\n",
       "        vertical-align: top;\n",
       "    }\n",
       "\n",
       "    .dataframe thead th {\n",
       "        text-align: right;\n",
       "    }\n",
       "</style>\n",
       "<table border=\"1\" class=\"dataframe\">\n",
       "  <thead>\n",
       "    <tr style=\"text-align: right;\">\n",
       "      <th></th>\n",
       "      <th>Name</th>\n",
       "      <th>Username</th>\n",
       "      <th>Text</th>\n",
       "      <th>Created</th>\n",
       "      <th>Favorite Count</th>\n",
       "      <th>Retweet Count</th>\n",
       "      <th>Retweeted</th>\n",
       "      <th>Media Attached</th>\n",
       "      <th>pos</th>\n",
       "      <th>neg</th>\n",
       "      <th>neu</th>\n",
       "      <th>compound</th>\n",
       "      <th>major_score</th>\n",
       "    </tr>\n",
       "  </thead>\n",
       "  <tbody>\n",
       "    <tr>\n",
       "      <th>17</th>\n",
       "      <td>Donald J. Trump</td>\n",
       "      <td>realDonaldTrump</td>\n",
       "      <td>RT @ArthurSchwartz: She calls it “the flu” and...</td>\n",
       "      <td>2020-04-19 17:33:49</td>\n",
       "      <td>0</td>\n",
       "      <td>8129</td>\n",
       "      <td>False</td>\n",
       "      <td>False</td>\n",
       "      <td>0.0</td>\n",
       "      <td>0.143</td>\n",
       "      <td>0.857</td>\n",
       "      <td>-0.6124</td>\n",
       "      <td>-0.143</td>\n",
       "    </tr>\n",
       "    <tr>\n",
       "      <th>16</th>\n",
       "      <td>Donald J. Trump</td>\n",
       "      <td>realDonaldTrump</td>\n",
       "      <td>RT @DonaldJTrumpJr: Germany’s largest newspape...</td>\n",
       "      <td>2020-04-19 17:34:39</td>\n",
       "      <td>0</td>\n",
       "      <td>18608</td>\n",
       "      <td>False</td>\n",
       "      <td>False</td>\n",
       "      <td>0.0</td>\n",
       "      <td>0.000</td>\n",
       "      <td>1.000</td>\n",
       "      <td>0.0000</td>\n",
       "      <td>0.000</td>\n",
       "    </tr>\n",
       "    <tr>\n",
       "      <th>12</th>\n",
       "      <td>Donald J. Trump</td>\n",
       "      <td>realDonaldTrump</td>\n",
       "      <td>RT @kimguilfoyle: “In responding to the outbre...</td>\n",
       "      <td>2020-04-19 18:08:54</td>\n",
       "      <td>0</td>\n",
       "      <td>3917</td>\n",
       "      <td>False</td>\n",
       "      <td>False</td>\n",
       "      <td>0.0</td>\n",
       "      <td>0.000</td>\n",
       "      <td>1.000</td>\n",
       "      <td>0.0000</td>\n",
       "      <td>0.000</td>\n",
       "    </tr>\n",
       "    <tr>\n",
       "      <th>10</th>\n",
       "      <td>Donald J. Trump</td>\n",
       "      <td>realDonaldTrump</td>\n",
       "      <td>RT @RepLeeZeldin: While @realDonaldTrump belie...</td>\n",
       "      <td>2020-04-19 18:11:27</td>\n",
       "      <td>0</td>\n",
       "      <td>5934</td>\n",
       "      <td>False</td>\n",
       "      <td>False</td>\n",
       "      <td>0.0</td>\n",
       "      <td>0.280</td>\n",
       "      <td>0.720</td>\n",
       "      <td>-0.7906</td>\n",
       "      <td>-0.280</td>\n",
       "    </tr>\n",
       "    <tr>\n",
       "      <th>0</th>\n",
       "      <td>Donald J. Trump</td>\n",
       "      <td>realDonaldTrump</td>\n",
       "      <td>RT @WhiteHouse: LIVE: Press Briefing with Coro...</td>\n",
       "      <td>2020-04-19 22:25:08</td>\n",
       "      <td>0</td>\n",
       "      <td>3060</td>\n",
       "      <td>False</td>\n",
       "      <td>False</td>\n",
       "      <td>0.0</td>\n",
       "      <td>0.000</td>\n",
       "      <td>1.000</td>\n",
       "      <td>0.0000</td>\n",
       "      <td>0.000</td>\n",
       "    </tr>\n",
       "  </tbody>\n",
       "</table>\n",
       "</div>"
      ],
      "text/plain": [
       "               Name         Username  \\\n",
       "17  Donald J. Trump  realDonaldTrump   \n",
       "16  Donald J. Trump  realDonaldTrump   \n",
       "12  Donald J. Trump  realDonaldTrump   \n",
       "10  Donald J. Trump  realDonaldTrump   \n",
       "0   Donald J. Trump  realDonaldTrump   \n",
       "\n",
       "                                                 Text             Created  \\\n",
       "17  RT @ArthurSchwartz: She calls it “the flu” and... 2020-04-19 17:33:49   \n",
       "16  RT @DonaldJTrumpJr: Germany’s largest newspape... 2020-04-19 17:34:39   \n",
       "12  RT @kimguilfoyle: “In responding to the outbre... 2020-04-19 18:08:54   \n",
       "10  RT @RepLeeZeldin: While @realDonaldTrump belie... 2020-04-19 18:11:27   \n",
       "0   RT @WhiteHouse: LIVE: Press Briefing with Coro... 2020-04-19 22:25:08   \n",
       "\n",
       "    Favorite Count  Retweet Count  Retweeted  Media Attached  pos    neg  \\\n",
       "17               0           8129      False           False  0.0  0.143   \n",
       "16               0          18608      False           False  0.0  0.000   \n",
       "12               0           3917      False           False  0.0  0.000   \n",
       "10               0           5934      False           False  0.0  0.280   \n",
       "0                0           3060      False           False  0.0  0.000   \n",
       "\n",
       "      neu  compound  major_score  \n",
       "17  0.857   -0.6124       -0.143  \n",
       "16  1.000    0.0000        0.000  \n",
       "12  1.000    0.0000        0.000  \n",
       "10  0.720   -0.7906       -0.280  \n",
       "0   1.000    0.0000        0.000  "
      ]
     },
     "execution_count": 36,
     "metadata": {},
     "output_type": "execute_result"
    }
   ],
   "source": [
    "trump_df.tail()"
   ]
  },
  {
   "cell_type": "code",
   "execution_count": 37,
   "metadata": {
    "ExecuteTime": {
     "end_time": "2020-04-20T15:49:22.116035Z",
     "start_time": "2020-04-20T15:49:22.076833Z"
    }
   },
   "outputs": [
    {
     "data": {
      "text/html": [
       "<div>\n",
       "<style scoped>\n",
       "    .dataframe tbody tr th:only-of-type {\n",
       "        vertical-align: middle;\n",
       "    }\n",
       "\n",
       "    .dataframe tbody tr th {\n",
       "        vertical-align: top;\n",
       "    }\n",
       "\n",
       "    .dataframe thead th {\n",
       "        text-align: right;\n",
       "    }\n",
       "</style>\n",
       "<table border=\"1\" class=\"dataframe\">\n",
       "  <thead>\n",
       "    <tr style=\"text-align: right;\">\n",
       "      <th></th>\n",
       "      <th>Favorite Count</th>\n",
       "      <th>Retweet Count</th>\n",
       "      <th>pos</th>\n",
       "      <th>neg</th>\n",
       "      <th>neu</th>\n",
       "      <th>compound</th>\n",
       "      <th>major_score</th>\n",
       "    </tr>\n",
       "  </thead>\n",
       "  <tbody>\n",
       "    <tr>\n",
       "      <th>count</th>\n",
       "      <td>65.000000</td>\n",
       "      <td>65.00000</td>\n",
       "      <td>65.000000</td>\n",
       "      <td>65.000000</td>\n",
       "      <td>65.000000</td>\n",
       "      <td>65.000000</td>\n",
       "      <td>65.000000</td>\n",
       "    </tr>\n",
       "    <tr>\n",
       "      <th>mean</th>\n",
       "      <td>56729.723077</td>\n",
       "      <td>21208.00000</td>\n",
       "      <td>0.077538</td>\n",
       "      <td>0.089508</td>\n",
       "      <td>0.832938</td>\n",
       "      <td>-0.037378</td>\n",
       "      <td>-0.015738</td>\n",
       "    </tr>\n",
       "    <tr>\n",
       "      <th>std</th>\n",
       "      <td>98701.075128</td>\n",
       "      <td>20020.08351</td>\n",
       "      <td>0.094118</td>\n",
       "      <td>0.102490</td>\n",
       "      <td>0.131894</td>\n",
       "      <td>0.492538</td>\n",
       "      <td>0.173812</td>\n",
       "    </tr>\n",
       "    <tr>\n",
       "      <th>min</th>\n",
       "      <td>0.000000</td>\n",
       "      <td>2957.00000</td>\n",
       "      <td>0.000000</td>\n",
       "      <td>0.000000</td>\n",
       "      <td>0.555000</td>\n",
       "      <td>-0.928600</td>\n",
       "      <td>-0.399000</td>\n",
       "    </tr>\n",
       "    <tr>\n",
       "      <th>25%</th>\n",
       "      <td>0.000000</td>\n",
       "      <td>7547.00000</td>\n",
       "      <td>0.000000</td>\n",
       "      <td>0.000000</td>\n",
       "      <td>0.741000</td>\n",
       "      <td>-0.440400</td>\n",
       "      <td>-0.143000</td>\n",
       "    </tr>\n",
       "    <tr>\n",
       "      <th>50%</th>\n",
       "      <td>0.000000</td>\n",
       "      <td>13417.00000</td>\n",
       "      <td>0.042000</td>\n",
       "      <td>0.075000</td>\n",
       "      <td>0.839000</td>\n",
       "      <td>0.000000</td>\n",
       "      <td>0.000000</td>\n",
       "    </tr>\n",
       "    <tr>\n",
       "      <th>75%</th>\n",
       "      <td>115737.000000</td>\n",
       "      <td>31819.00000</td>\n",
       "      <td>0.143000</td>\n",
       "      <td>0.143000</td>\n",
       "      <td>0.958000</td>\n",
       "      <td>0.361200</td>\n",
       "      <td>0.111000</td>\n",
       "    </tr>\n",
       "    <tr>\n",
       "      <th>max</th>\n",
       "      <td>444327.000000</td>\n",
       "      <td>97998.00000</td>\n",
       "      <td>0.354000</td>\n",
       "      <td>0.399000</td>\n",
       "      <td>1.000000</td>\n",
       "      <td>0.834400</td>\n",
       "      <td>0.354000</td>\n",
       "    </tr>\n",
       "  </tbody>\n",
       "</table>\n",
       "</div>"
      ],
      "text/plain": [
       "       Favorite Count  Retweet Count        pos        neg        neu  \\\n",
       "count       65.000000       65.00000  65.000000  65.000000  65.000000   \n",
       "mean     56729.723077    21208.00000   0.077538   0.089508   0.832938   \n",
       "std      98701.075128    20020.08351   0.094118   0.102490   0.131894   \n",
       "min          0.000000     2957.00000   0.000000   0.000000   0.555000   \n",
       "25%          0.000000     7547.00000   0.000000   0.000000   0.741000   \n",
       "50%          0.000000    13417.00000   0.042000   0.075000   0.839000   \n",
       "75%     115737.000000    31819.00000   0.143000   0.143000   0.958000   \n",
       "max     444327.000000    97998.00000   0.354000   0.399000   1.000000   \n",
       "\n",
       "        compound  major_score  \n",
       "count  65.000000    65.000000  \n",
       "mean   -0.037378    -0.015738  \n",
       "std     0.492538     0.173812  \n",
       "min    -0.928600    -0.399000  \n",
       "25%    -0.440400    -0.143000  \n",
       "50%     0.000000     0.000000  \n",
       "75%     0.361200     0.111000  \n",
       "max     0.834400     0.354000  "
      ]
     },
     "execution_count": 37,
     "metadata": {},
     "output_type": "execute_result"
    }
   ],
   "source": [
    "trump_df.describe()"
   ]
  },
  {
   "cell_type": "code",
   "execution_count": 38,
   "metadata": {
    "ExecuteTime": {
     "end_time": "2020-04-20T15:49:38.969335Z",
     "start_time": "2020-04-20T15:49:38.944663Z"
    }
   },
   "outputs": [
    {
     "data": {
      "text/html": [
       "<div>\n",
       "<style scoped>\n",
       "    .dataframe tbody tr th:only-of-type {\n",
       "        vertical-align: middle;\n",
       "    }\n",
       "\n",
       "    .dataframe tbody tr th {\n",
       "        vertical-align: top;\n",
       "    }\n",
       "\n",
       "    .dataframe thead th {\n",
       "        text-align: right;\n",
       "    }\n",
       "</style>\n",
       "<table border=\"1\" class=\"dataframe\">\n",
       "  <thead>\n",
       "    <tr style=\"text-align: right;\">\n",
       "      <th></th>\n",
       "      <th>Favorite Count</th>\n",
       "      <th>Retweet Count</th>\n",
       "      <th>pos</th>\n",
       "      <th>neg</th>\n",
       "      <th>neu</th>\n",
       "      <th>compound</th>\n",
       "      <th>major_score</th>\n",
       "    </tr>\n",
       "  </thead>\n",
       "  <tbody>\n",
       "    <tr>\n",
       "      <th>count</th>\n",
       "      <td>206.000000</td>\n",
       "      <td>206.000000</td>\n",
       "      <td>206.000000</td>\n",
       "      <td>206.000000</td>\n",
       "      <td>206.000000</td>\n",
       "      <td>206.000000</td>\n",
       "      <td>206.000000</td>\n",
       "    </tr>\n",
       "    <tr>\n",
       "      <th>mean</th>\n",
       "      <td>35634.713592</td>\n",
       "      <td>8375.179612</td>\n",
       "      <td>0.105005</td>\n",
       "      <td>0.113655</td>\n",
       "      <td>0.781306</td>\n",
       "      <td>-0.037483</td>\n",
       "      <td>-0.005650</td>\n",
       "    </tr>\n",
       "    <tr>\n",
       "      <th>std</th>\n",
       "      <td>41609.869052</td>\n",
       "      <td>8297.075020</td>\n",
       "      <td>0.086678</td>\n",
       "      <td>0.097554</td>\n",
       "      <td>0.110789</td>\n",
       "      <td>0.577714</td>\n",
       "      <td>0.188782</td>\n",
       "    </tr>\n",
       "    <tr>\n",
       "      <th>min</th>\n",
       "      <td>0.000000</td>\n",
       "      <td>241.000000</td>\n",
       "      <td>0.000000</td>\n",
       "      <td>0.000000</td>\n",
       "      <td>0.455000</td>\n",
       "      <td>-0.937900</td>\n",
       "      <td>-0.486000</td>\n",
       "    </tr>\n",
       "    <tr>\n",
       "      <th>25%</th>\n",
       "      <td>9873.250000</td>\n",
       "      <td>2802.250000</td>\n",
       "      <td>0.035250</td>\n",
       "      <td>0.041250</td>\n",
       "      <td>0.716000</td>\n",
       "      <td>-0.619450</td>\n",
       "      <td>-0.158750</td>\n",
       "    </tr>\n",
       "    <tr>\n",
       "      <th>50%</th>\n",
       "      <td>21492.500000</td>\n",
       "      <td>5720.500000</td>\n",
       "      <td>0.099000</td>\n",
       "      <td>0.100500</td>\n",
       "      <td>0.774000</td>\n",
       "      <td>0.000000</td>\n",
       "      <td>0.000000</td>\n",
       "    </tr>\n",
       "    <tr>\n",
       "      <th>75%</th>\n",
       "      <td>43908.750000</td>\n",
       "      <td>11139.750000</td>\n",
       "      <td>0.160750</td>\n",
       "      <td>0.160000</td>\n",
       "      <td>0.856000</td>\n",
       "      <td>0.435675</td>\n",
       "      <td>0.154000</td>\n",
       "    </tr>\n",
       "    <tr>\n",
       "      <th>max</th>\n",
       "      <td>281889.000000</td>\n",
       "      <td>48069.000000</td>\n",
       "      <td>0.404000</td>\n",
       "      <td>0.486000</td>\n",
       "      <td>1.000000</td>\n",
       "      <td>0.963300</td>\n",
       "      <td>0.404000</td>\n",
       "    </tr>\n",
       "  </tbody>\n",
       "</table>\n",
       "</div>"
      ],
      "text/plain": [
       "       Favorite Count  Retweet Count         pos         neg         neu  \\\n",
       "count      206.000000     206.000000  206.000000  206.000000  206.000000   \n",
       "mean     35634.713592    8375.179612    0.105005    0.113655    0.781306   \n",
       "std      41609.869052    8297.075020    0.086678    0.097554    0.110789   \n",
       "min          0.000000     241.000000    0.000000    0.000000    0.455000   \n",
       "25%       9873.250000    2802.250000    0.035250    0.041250    0.716000   \n",
       "50%      21492.500000    5720.500000    0.099000    0.100500    0.774000   \n",
       "75%      43908.750000   11139.750000    0.160750    0.160000    0.856000   \n",
       "max     281889.000000   48069.000000    0.404000    0.486000    1.000000   \n",
       "\n",
       "         compound  major_score  \n",
       "count  206.000000   206.000000  \n",
       "mean    -0.037483    -0.005650  \n",
       "std      0.577714     0.188782  \n",
       "min     -0.937900    -0.486000  \n",
       "25%     -0.619450    -0.158750  \n",
       "50%      0.000000     0.000000  \n",
       "75%      0.435675     0.154000  \n",
       "max      0.963300     0.404000  "
      ]
     },
     "execution_count": 38,
     "metadata": {},
     "output_type": "execute_result"
    }
   ],
   "source": [
    "biden_df.describe()"
   ]
  },
  {
   "cell_type": "code",
   "execution_count": 39,
   "metadata": {
    "ExecuteTime": {
     "end_time": "2020-04-20T15:49:44.732488Z",
     "start_time": "2020-04-20T15:49:44.608324Z"
    },
    "code_folding": []
   },
   "outputs": [
    {
     "data": {
      "image/png": "[encoded data removed]",
      "text/plain": [
       "<Figure size 864x432 with 1 Axes>"
      ]
     },
     "metadata": {},
     "output_type": "display_data"
    }
   ],
   "source": [
    "# trump tweets \n",
    "fig, ax = plt.subplots(figsize=(12,6))\n",
    "\n",
    "ax.set_title('Trump Positive Sentiment vs. Time')\n",
    "ax.xaxis.set_minor_locator(mdates.DayLocator(interval=1))\n",
    "ax.xaxis.set_major_locator(mdates.DayLocator(interval=5))\n",
    "ax.xaxis.set_major_formatter(mdates.DateFormatter('%Y-%m-%d'))\n",
    "\n",
    "ax.plot(trump_df['Created'], trump_df['pos'])\n",
    "\n",
    "fig.autofmt_xdate()\n",
    "\n",
    "plt.show()"
   ]
  },
  {
   "cell_type": "code",
   "execution_count": null,
   "metadata": {
    "ExecuteTime": {
     "end_time": "2020-04-19T00:54:35.627189Z",
     "start_time": "2020-04-19T00:54:35.517039Z"
    },
    "code_folding": [
     0
    ]
   },
   "outputs": [],
   "source": [
    "# biden tweets\n",
    "fig, ax = plt.subplots( figsize=(12,6))\n",
    "\n",
    "ax.set_title('Biden Positive Sentiment vs. Time')\n",
    "ax.xaxis.set_minor_locator(mdates.DayLocator(interval=1))\n",
    "ax.xaxis.set_major_locator(mdates.DayLocator(interval=5))\n",
    "ax.xaxis.set_major_formatter(mdates.DateFormatter('%Y-%m-%d'))\n",
    "\n",
    "ax.plot(biden_df['Created'], biden_df['pos'])\n",
    "\n",
    "fig.autofmt_xdate()\n",
    "\n",
    "plt.show()"
   ]
  },
  {
   "cell_type": "code",
   "execution_count": null,
   "metadata": {
    "ExecuteTime": {
     "end_time": "2020-04-19T01:27:39.014680Z",
     "start_time": "2020-04-19T01:27:38.728006Z"
    },
    "code_folding": [
     0
    ]
   },
   "outputs": [],
   "source": [
    "# plotting positive and neg scores, whichever is greater\n",
    "trump_pos = trump_df.copy()\n",
    "trump_neg = trump_df.copy()\n",
    "\n",
    "trump_pos['major_score'] = trump_pos['major_score'].apply(lambda val: val if val >= 0 else np.nan)\n",
    "trump_neg['major_score'] = trump_neg['major_score'].apply(lambda val: val if val < 0 else np.nan)\n",
    "\n",
    "\n",
    "fig, ax = plt.subplots( figsize=(12,6))\n",
    "ax.bar(trump_pos['Created'], trump_pos['major_score'])\n",
    "ax.bar(trump_neg['Created'], trump_neg['major_score'], color='r')\n",
    "\n",
    "plt.show()"
   ]
  }
 ],
 "metadata": {
  "kernelspec": {
   "display_name": "Python 3",
   "language": "python",
   "name": "python3"
  },
  "language_info": {
   "codemirror_mode": {
    "name": "ipython",
    "version": 3
   },
   "file_extension": ".py",
   "mimetype": "text/x-python",
   "name": "python",
   "nbconvert_exporter": "python",
   "pygments_lexer": "ipython3",
   "version": "3.8.2"
  },
  "varInspector": {
   "cols": {
    "lenName": 16,
    "lenType": 16,
    "lenVar": 40
   },
   "kernels_config": {
    "python": {
     "delete_cmd_postfix": "",
     "delete_cmd_prefix": "del ",
     "library": "var_list.py",
     "varRefreshCmd": "print(var_dic_list())"
    },
    "r": {
     "delete_cmd_postfix": ") ",
     "delete_cmd_prefix": "rm(",
     "library": "var_list.r",
     "varRefreshCmd": "cat(var_dic_list()) "
    }
   },
   "types_to_exclude": [
    "module",
    "function",
    "builtin_function_or_method",
    "instance",
    "_Feature"
   ],
   "window_display": false
  }
 },
 "nbformat": 4,
 "nbformat_minor": 4
}
