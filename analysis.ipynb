{
 "cells": [
  {
   "cell_type": "code",
   "execution_count": 78,
   "metadata": {
    "ExecuteTime": {
     "end_time": "2020-04-19T00:53:30.804926Z",
     "start_time": "2020-04-19T00:53:30.799890Z"
    }
   },
   "outputs": [],
   "source": [
    "import pandas as pd\n",
    "\n",
    "# Fixing graphs for Justin, if this causes errors, just comment it out \n",
    "try: \n",
    "    from jupyterthemes import jtplot\n",
    "    jtplot.style(theme='monokai', context='notebook', ticks=True, grid=False)\n",
    "except ImportError:\n",
    "    pass"
   ]
  },
  {
   "cell_type": "code",
   "execution_count": 60,
   "metadata": {
    "ExecuteTime": {
     "end_time": "2020-04-19T00:35:28.646123Z",
     "start_time": "2020-04-19T00:35:28.631809Z"
    }
   },
   "outputs": [
    {
     "data": {
      "text/html": [
       "<div>\n",
       "<style scoped>\n",
       "    .dataframe tbody tr th:only-of-type {\n",
       "        vertical-align: middle;\n",
       "    }\n",
       "\n",
       "    .dataframe tbody tr th {\n",
       "        vertical-align: top;\n",
       "    }\n",
       "\n",
       "    .dataframe thead th {\n",
       "        text-align: right;\n",
       "    }\n",
       "</style>\n",
       "<table border=\"1\" class=\"dataframe\">\n",
       "  <thead>\n",
       "    <tr style=\"text-align: right;\">\n",
       "      <th></th>\n",
       "      <th>Name</th>\n",
       "      <th>Username</th>\n",
       "      <th>Text</th>\n",
       "      <th>Created</th>\n",
       "    </tr>\n",
       "  </thead>\n",
       "  <tbody>\n",
       "    <tr>\n",
       "      <th>0</th>\n",
       "      <td>Donald J. Trump</td>\n",
       "      <td>realDonaldTrump</td>\n",
       "      <td>RT @WhiteHouse: Yesterday, we unveiled the Gui...</td>\n",
       "      <td>2020-04-18 01:02:29</td>\n",
       "    </tr>\n",
       "    <tr>\n",
       "      <th>1</th>\n",
       "      <td>Donald J. Trump</td>\n",
       "      <td>realDonaldTrump</td>\n",
       "      <td>RT @SecretarySonny: Thank you @realDonaldTrump...</td>\n",
       "      <td>2020-04-18 01:01:34</td>\n",
       "    </tr>\n",
       "    <tr>\n",
       "      <th>2</th>\n",
       "      <td>Donald J. Trump</td>\n",
       "      <td>realDonaldTrump</td>\n",
       "      <td>RT @WhiteHouse: LIVE: Press Briefing with Coro...</td>\n",
       "      <td>2020-04-17 22:22:30</td>\n",
       "    </tr>\n",
       "    <tr>\n",
       "      <th>3</th>\n",
       "      <td>Donald J. Trump</td>\n",
       "      <td>realDonaldTrump</td>\n",
       "      <td>White House news conference today at 6:00 P.M....</td>\n",
       "      <td>2020-04-17 19:33:46</td>\n",
       "    </tr>\n",
       "    <tr>\n",
       "      <th>4</th>\n",
       "      <td>Donald J. Trump</td>\n",
       "      <td>realDonaldTrump</td>\n",
       "      <td>Cuomo ridiculously wanted “40 thousand Ventila...</td>\n",
       "      <td>2020-04-17 17:00:01</td>\n",
       "    </tr>\n",
       "  </tbody>\n",
       "</table>\n",
       "</div>"
      ],
      "text/plain": [
       "              Name         Username  \\\n",
       "0  Donald J. Trump  realDonaldTrump   \n",
       "1  Donald J. Trump  realDonaldTrump   \n",
       "2  Donald J. Trump  realDonaldTrump   \n",
       "3  Donald J. Trump  realDonaldTrump   \n",
       "4  Donald J. Trump  realDonaldTrump   \n",
       "\n",
       "                                                Text             Created  \n",
       "0  RT @WhiteHouse: Yesterday, we unveiled the Gui... 2020-04-18 01:02:29  \n",
       "1  RT @SecretarySonny: Thank you @realDonaldTrump... 2020-04-18 01:01:34  \n",
       "2  RT @WhiteHouse: LIVE: Press Briefing with Coro... 2020-04-17 22:22:30  \n",
       "3  White House news conference today at 6:00 P.M.... 2020-04-17 19:33:46  \n",
       "4  Cuomo ridiculously wanted “40 thousand Ventila... 2020-04-17 17:00:01  "
      ]
     },
     "execution_count": 60,
     "metadata": {},
     "output_type": "execute_result"
    }
   ],
   "source": [
    "df = pd.read_csv('./politicalData', index_col=0)\n",
    "df['Created']= pd.to_datetime(df['Created']) \n",
    "df.head()"
   ]
  },
  {
   "cell_type": "markdown",
   "metadata": {},
   "source": [
    "# NLTK Sentiment Analysis"
   ]
  },
  {
   "cell_type": "code",
   "execution_count": 1,
   "metadata": {
    "ExecuteTime": {
     "end_time": "2020-04-18T23:32:38.138310Z",
     "start_time": "2020-04-18T23:32:37.269386Z"
    }
   },
   "outputs": [
    {
     "name": "stdout",
     "output_type": "stream",
     "text": [
      "Defaulting to user installation because normal site-packages is not writeable\n",
      "Requirement already satisfied: nltk in /usr/local/lib/python3.8/site-packages (3.5)\n",
      "Requirement already satisfied: click in /usr/local/lib/python3.8/site-packages (from nltk) (7.1.1)\n",
      "Requirement already satisfied: tqdm in /usr/local/lib/python3.8/site-packages (from nltk) (4.45.0)\n",
      "Requirement already satisfied: regex in /usr/local/lib/python3.8/site-packages (from nltk) (2020.4.4)\n",
      "Requirement already satisfied: joblib in /usr/local/lib/python3.8/site-packages (from nltk) (0.14.1)\n"
     ]
    }
   ],
   "source": [
    "# Installs nltk if you don't have it\n",
    "!pip install nltk"
   ]
  },
  {
   "cell_type": "code",
   "execution_count": 2,
   "metadata": {
    "ExecuteTime": {
     "end_time": "2020-04-18T23:33:22.862948Z",
     "start_time": "2020-04-18T23:33:22.069179Z"
    }
   },
   "outputs": [
    {
     "name": "stderr",
     "output_type": "stream",
     "text": [
      "[nltk_data] Downloading package vader_lexicon to\n",
      "[nltk_data]     /home/user/nltk_data...\n"
     ]
    }
   ],
   "source": [
    "# import and download lexicon\n",
    "import nltk\n",
    "nltk.download('vader_lexicon')\n",
    "\n",
    "from nltk.sentiment.vader import SentimentIntensityAnalyzer"
   ]
  },
  {
   "cell_type": "code",
   "execution_count": 3,
   "metadata": {
    "ExecuteTime": {
     "end_time": "2020-04-18T23:33:54.032703Z",
     "start_time": "2020-04-18T23:33:54.018912Z"
    }
   },
   "outputs": [],
   "source": [
    "# Creating the Analyzer\n",
    "sid = SentimentIntensityAnalyzer()"
   ]
  },
  {
   "cell_type": "code",
   "execution_count": 62,
   "metadata": {
    "ExecuteTime": {
     "end_time": "2020-04-19T00:35:47.125709Z",
     "start_time": "2020-04-19T00:35:46.655205Z"
    }
   },
   "outputs": [],
   "source": [
    "def sentiment(row):\n",
    "    sent = sid.polarity_scores(row['Text'])\n",
    "    row['pos'] = sent['pos']\n",
    "    row['neg'] = sent['neg']\n",
    "    row['neu'] = sent['neu']\n",
    "    row['compound'] = sent['compound']\n",
    "    return row\n",
    "\n",
    "df = df.apply(lambda row: sentiment(row), axis=1)"
   ]
  },
  {
   "cell_type": "code",
   "execution_count": 63,
   "metadata": {
    "ExecuteTime": {
     "end_time": "2020-04-19T00:35:50.968813Z",
     "start_time": "2020-04-19T00:35:50.956381Z"
    }
   },
   "outputs": [
    {
     "data": {
      "text/html": [
       "<div>\n",
       "<style scoped>\n",
       "    .dataframe tbody tr th:only-of-type {\n",
       "        vertical-align: middle;\n",
       "    }\n",
       "\n",
       "    .dataframe tbody tr th {\n",
       "        vertical-align: top;\n",
       "    }\n",
       "\n",
       "    .dataframe thead th {\n",
       "        text-align: right;\n",
       "    }\n",
       "</style>\n",
       "<table border=\"1\" class=\"dataframe\">\n",
       "  <thead>\n",
       "    <tr style=\"text-align: right;\">\n",
       "      <th></th>\n",
       "      <th>Name</th>\n",
       "      <th>Username</th>\n",
       "      <th>Text</th>\n",
       "      <th>Created</th>\n",
       "      <th>pos</th>\n",
       "      <th>neg</th>\n",
       "      <th>neu</th>\n",
       "      <th>compound</th>\n",
       "    </tr>\n",
       "  </thead>\n",
       "  <tbody>\n",
       "    <tr>\n",
       "      <th>0</th>\n",
       "      <td>Donald J. Trump</td>\n",
       "      <td>realDonaldTrump</td>\n",
       "      <td>RT @WhiteHouse: Yesterday, we unveiled the Gui...</td>\n",
       "      <td>2020-04-18 01:02:29</td>\n",
       "      <td>0.000</td>\n",
       "      <td>0.0</td>\n",
       "      <td>1.000</td>\n",
       "      <td>0.0000</td>\n",
       "    </tr>\n",
       "    <tr>\n",
       "      <th>1</th>\n",
       "      <td>Donald J. Trump</td>\n",
       "      <td>realDonaldTrump</td>\n",
       "      <td>RT @SecretarySonny: Thank you @realDonaldTrump...</td>\n",
       "      <td>2020-04-18 01:01:34</td>\n",
       "      <td>0.161</td>\n",
       "      <td>0.0</td>\n",
       "      <td>0.839</td>\n",
       "      <td>0.3612</td>\n",
       "    </tr>\n",
       "    <tr>\n",
       "      <th>2</th>\n",
       "      <td>Donald J. Trump</td>\n",
       "      <td>realDonaldTrump</td>\n",
       "      <td>RT @WhiteHouse: LIVE: Press Briefing with Coro...</td>\n",
       "      <td>2020-04-17 22:22:30</td>\n",
       "      <td>0.000</td>\n",
       "      <td>0.0</td>\n",
       "      <td>1.000</td>\n",
       "      <td>0.0000</td>\n",
       "    </tr>\n",
       "    <tr>\n",
       "      <th>3</th>\n",
       "      <td>Donald J. Trump</td>\n",
       "      <td>realDonaldTrump</td>\n",
       "      <td>White House news conference today at 6:00 P.M....</td>\n",
       "      <td>2020-04-17 19:33:46</td>\n",
       "      <td>0.218</td>\n",
       "      <td>0.0</td>\n",
       "      <td>0.782</td>\n",
       "      <td>0.4199</td>\n",
       "    </tr>\n",
       "    <tr>\n",
       "      <th>4</th>\n",
       "      <td>Donald J. Trump</td>\n",
       "      <td>realDonaldTrump</td>\n",
       "      <td>Cuomo ridiculously wanted “40 thousand Ventila...</td>\n",
       "      <td>2020-04-17 17:00:01</td>\n",
       "      <td>0.048</td>\n",
       "      <td>0.1</td>\n",
       "      <td>0.852</td>\n",
       "      <td>-0.3382</td>\n",
       "    </tr>\n",
       "  </tbody>\n",
       "</table>\n",
       "</div>"
      ],
      "text/plain": [
       "              Name         Username  \\\n",
       "0  Donald J. Trump  realDonaldTrump   \n",
       "1  Donald J. Trump  realDonaldTrump   \n",
       "2  Donald J. Trump  realDonaldTrump   \n",
       "3  Donald J. Trump  realDonaldTrump   \n",
       "4  Donald J. Trump  realDonaldTrump   \n",
       "\n",
       "                                                Text             Created  \\\n",
       "0  RT @WhiteHouse: Yesterday, we unveiled the Gui... 2020-04-18 01:02:29   \n",
       "1  RT @SecretarySonny: Thank you @realDonaldTrump... 2020-04-18 01:01:34   \n",
       "2  RT @WhiteHouse: LIVE: Press Briefing with Coro... 2020-04-17 22:22:30   \n",
       "3  White House news conference today at 6:00 P.M.... 2020-04-17 19:33:46   \n",
       "4  Cuomo ridiculously wanted “40 thousand Ventila... 2020-04-17 17:00:01   \n",
       "\n",
       "     pos  neg    neu  compound  \n",
       "0  0.000  0.0  1.000    0.0000  \n",
       "1  0.161  0.0  0.839    0.3612  \n",
       "2  0.000  0.0  1.000    0.0000  \n",
       "3  0.218  0.0  0.782    0.4199  \n",
       "4  0.048  0.1  0.852   -0.3382  "
      ]
     },
     "execution_count": 63,
     "metadata": {},
     "output_type": "execute_result"
    }
   ],
   "source": [
    "df.head()"
   ]
  },
  {
   "cell_type": "markdown",
   "metadata": {},
   "source": [
    "# Vizualizing Data"
   ]
  },
  {
   "cell_type": "code",
   "execution_count": 37,
   "metadata": {
    "ExecuteTime": {
     "end_time": "2020-04-19T00:17:36.302983Z",
     "start_time": "2020-04-19T00:17:36.300106Z"
    }
   },
   "outputs": [],
   "source": [
    "import matplotlib.pyplot as plt\n",
    "import matplotlib.dates as mdates\n",
    "import seaborn as sns"
   ]
  },
  {
   "cell_type": "code",
   "execution_count": 66,
   "metadata": {
    "ExecuteTime": {
     "end_time": "2020-04-19T00:36:52.096841Z",
     "start_time": "2020-04-19T00:36:52.088617Z"
    }
   },
   "outputs": [
    {
     "data": {
      "text/plain": [
       "((100, 8), (100, 8))"
      ]
     },
     "execution_count": 66,
     "metadata": {},
     "output_type": "execute_result"
    }
   ],
   "source": [
    "trump_df = df[df['Username'] == 'realDonaldTrump'].sort_values('Created')\n",
    "biden_df = df[df['Username'] == 'JoeBiden'].sort_values('Created')\n",
    "trump_df.shape, biden_df.shape"
   ]
  },
  {
   "cell_type": "code",
   "execution_count": 73,
   "metadata": {
    "ExecuteTime": {
     "end_time": "2020-04-19T00:48:31.699587Z",
     "start_time": "2020-04-19T00:48:31.686386Z"
    }
   },
   "outputs": [
    {
     "data": {
      "text/html": [
       "<div>\n",
       "<style scoped>\n",
       "    .dataframe tbody tr th:only-of-type {\n",
       "        vertical-align: middle;\n",
       "    }\n",
       "\n",
       "    .dataframe tbody tr th {\n",
       "        vertical-align: top;\n",
       "    }\n",
       "\n",
       "    .dataframe thead th {\n",
       "        text-align: right;\n",
       "    }\n",
       "</style>\n",
       "<table border=\"1\" class=\"dataframe\">\n",
       "  <thead>\n",
       "    <tr style=\"text-align: right;\">\n",
       "      <th></th>\n",
       "      <th>Name</th>\n",
       "      <th>Username</th>\n",
       "      <th>Text</th>\n",
       "      <th>Created</th>\n",
       "      <th>pos</th>\n",
       "      <th>neg</th>\n",
       "      <th>neu</th>\n",
       "      <th>compound</th>\n",
       "    </tr>\n",
       "  </thead>\n",
       "  <tbody>\n",
       "    <tr>\n",
       "      <th>4</th>\n",
       "      <td>Donald J. Trump</td>\n",
       "      <td>realDonaldTrump</td>\n",
       "      <td>Cuomo ridiculously wanted “40 thousand Ventila...</td>\n",
       "      <td>2020-04-17 17:00:01</td>\n",
       "      <td>0.048</td>\n",
       "      <td>0.1</td>\n",
       "      <td>0.852</td>\n",
       "      <td>-0.3382</td>\n",
       "    </tr>\n",
       "    <tr>\n",
       "      <th>3</th>\n",
       "      <td>Donald J. Trump</td>\n",
       "      <td>realDonaldTrump</td>\n",
       "      <td>White House news conference today at 6:00 P.M....</td>\n",
       "      <td>2020-04-17 19:33:46</td>\n",
       "      <td>0.218</td>\n",
       "      <td>0.0</td>\n",
       "      <td>0.782</td>\n",
       "      <td>0.4199</td>\n",
       "    </tr>\n",
       "    <tr>\n",
       "      <th>2</th>\n",
       "      <td>Donald J. Trump</td>\n",
       "      <td>realDonaldTrump</td>\n",
       "      <td>RT @WhiteHouse: LIVE: Press Briefing with Coro...</td>\n",
       "      <td>2020-04-17 22:22:30</td>\n",
       "      <td>0.000</td>\n",
       "      <td>0.0</td>\n",
       "      <td>1.000</td>\n",
       "      <td>0.0000</td>\n",
       "    </tr>\n",
       "    <tr>\n",
       "      <th>1</th>\n",
       "      <td>Donald J. Trump</td>\n",
       "      <td>realDonaldTrump</td>\n",
       "      <td>RT @SecretarySonny: Thank you @realDonaldTrump...</td>\n",
       "      <td>2020-04-18 01:01:34</td>\n",
       "      <td>0.161</td>\n",
       "      <td>0.0</td>\n",
       "      <td>0.839</td>\n",
       "      <td>0.3612</td>\n",
       "    </tr>\n",
       "    <tr>\n",
       "      <th>0</th>\n",
       "      <td>Donald J. Trump</td>\n",
       "      <td>realDonaldTrump</td>\n",
       "      <td>RT @WhiteHouse: Yesterday, we unveiled the Gui...</td>\n",
       "      <td>2020-04-18 01:02:29</td>\n",
       "      <td>0.000</td>\n",
       "      <td>0.0</td>\n",
       "      <td>1.000</td>\n",
       "      <td>0.0000</td>\n",
       "    </tr>\n",
       "  </tbody>\n",
       "</table>\n",
       "</div>"
      ],
      "text/plain": [
       "              Name         Username  \\\n",
       "4  Donald J. Trump  realDonaldTrump   \n",
       "3  Donald J. Trump  realDonaldTrump   \n",
       "2  Donald J. Trump  realDonaldTrump   \n",
       "1  Donald J. Trump  realDonaldTrump   \n",
       "0  Donald J. Trump  realDonaldTrump   \n",
       "\n",
       "                                                Text             Created  \\\n",
       "4  Cuomo ridiculously wanted “40 thousand Ventila... 2020-04-17 17:00:01   \n",
       "3  White House news conference today at 6:00 P.M.... 2020-04-17 19:33:46   \n",
       "2  RT @WhiteHouse: LIVE: Press Briefing with Coro... 2020-04-17 22:22:30   \n",
       "1  RT @SecretarySonny: Thank you @realDonaldTrump... 2020-04-18 01:01:34   \n",
       "0  RT @WhiteHouse: Yesterday, we unveiled the Gui... 2020-04-18 01:02:29   \n",
       "\n",
       "     pos  neg    neu  compound  \n",
       "4  0.048  0.1  0.852   -0.3382  \n",
       "3  0.218  0.0  0.782    0.4199  \n",
       "2  0.000  0.0  1.000    0.0000  \n",
       "1  0.161  0.0  0.839    0.3612  \n",
       "0  0.000  0.0  1.000    0.0000  "
      ]
     },
     "execution_count": 73,
     "metadata": {},
     "output_type": "execute_result"
    }
   ],
   "source": [
    "trump_df.tail()"
   ]
  },
  {
   "cell_type": "code",
   "execution_count": 71,
   "metadata": {
    "ExecuteTime": {
     "end_time": "2020-04-19T00:41:40.136979Z",
     "start_time": "2020-04-19T00:41:40.101652Z"
    }
   },
   "outputs": [
    {
     "data": {
      "text/html": [
       "<div>\n",
       "<style scoped>\n",
       "    .dataframe tbody tr th:only-of-type {\n",
       "        vertical-align: middle;\n",
       "    }\n",
       "\n",
       "    .dataframe tbody tr th {\n",
       "        vertical-align: top;\n",
       "    }\n",
       "\n",
       "    .dataframe thead th {\n",
       "        text-align: right;\n",
       "    }\n",
       "</style>\n",
       "<table border=\"1\" class=\"dataframe\">\n",
       "  <thead>\n",
       "    <tr style=\"text-align: right;\">\n",
       "      <th></th>\n",
       "      <th>pos</th>\n",
       "      <th>neg</th>\n",
       "      <th>neu</th>\n",
       "      <th>compound</th>\n",
       "    </tr>\n",
       "  </thead>\n",
       "  <tbody>\n",
       "    <tr>\n",
       "      <th>count</th>\n",
       "      <td>100.000000</td>\n",
       "      <td>100.000000</td>\n",
       "      <td>100.000000</td>\n",
       "      <td>100.000000</td>\n",
       "    </tr>\n",
       "    <tr>\n",
       "      <th>mean</th>\n",
       "      <td>0.112990</td>\n",
       "      <td>0.066840</td>\n",
       "      <td>0.820150</td>\n",
       "      <td>0.063901</td>\n",
       "    </tr>\n",
       "    <tr>\n",
       "      <th>std</th>\n",
       "      <td>0.162648</td>\n",
       "      <td>0.110699</td>\n",
       "      <td>0.183766</td>\n",
       "      <td>0.483960</td>\n",
       "    </tr>\n",
       "    <tr>\n",
       "      <th>min</th>\n",
       "      <td>0.000000</td>\n",
       "      <td>0.000000</td>\n",
       "      <td>0.200000</td>\n",
       "      <td>-0.958900</td>\n",
       "    </tr>\n",
       "    <tr>\n",
       "      <th>25%</th>\n",
       "      <td>0.000000</td>\n",
       "      <td>0.000000</td>\n",
       "      <td>0.713250</td>\n",
       "      <td>-0.200800</td>\n",
       "    </tr>\n",
       "    <tr>\n",
       "      <th>50%</th>\n",
       "      <td>0.048000</td>\n",
       "      <td>0.000000</td>\n",
       "      <td>0.826000</td>\n",
       "      <td>0.000000</td>\n",
       "    </tr>\n",
       "    <tr>\n",
       "      <th>75%</th>\n",
       "      <td>0.170250</td>\n",
       "      <td>0.106750</td>\n",
       "      <td>1.000000</td>\n",
       "      <td>0.419900</td>\n",
       "    </tr>\n",
       "    <tr>\n",
       "      <th>max</th>\n",
       "      <td>0.800000</td>\n",
       "      <td>0.629000</td>\n",
       "      <td>1.000000</td>\n",
       "      <td>0.972500</td>\n",
       "    </tr>\n",
       "  </tbody>\n",
       "</table>\n",
       "</div>"
      ],
      "text/plain": [
       "              pos         neg         neu    compound\n",
       "count  100.000000  100.000000  100.000000  100.000000\n",
       "mean     0.112990    0.066840    0.820150    0.063901\n",
       "std      0.162648    0.110699    0.183766    0.483960\n",
       "min      0.000000    0.000000    0.200000   -0.958900\n",
       "25%      0.000000    0.000000    0.713250   -0.200800\n",
       "50%      0.048000    0.000000    0.826000    0.000000\n",
       "75%      0.170250    0.106750    1.000000    0.419900\n",
       "max      0.800000    0.629000    1.000000    0.972500"
      ]
     },
     "execution_count": 71,
     "metadata": {},
     "output_type": "execute_result"
    }
   ],
   "source": [
    "trump_df.describe()"
   ]
  },
  {
   "cell_type": "code",
   "execution_count": 72,
   "metadata": {
    "ExecuteTime": {
     "end_time": "2020-04-19T00:41:53.469708Z",
     "start_time": "2020-04-19T00:41:53.453055Z"
    }
   },
   "outputs": [
    {
     "data": {
      "text/html": [
       "<div>\n",
       "<style scoped>\n",
       "    .dataframe tbody tr th:only-of-type {\n",
       "        vertical-align: middle;\n",
       "    }\n",
       "\n",
       "    .dataframe tbody tr th {\n",
       "        vertical-align: top;\n",
       "    }\n",
       "\n",
       "    .dataframe thead th {\n",
       "        text-align: right;\n",
       "    }\n",
       "</style>\n",
       "<table border=\"1\" class=\"dataframe\">\n",
       "  <thead>\n",
       "    <tr style=\"text-align: right;\">\n",
       "      <th></th>\n",
       "      <th>pos</th>\n",
       "      <th>neg</th>\n",
       "      <th>neu</th>\n",
       "      <th>compound</th>\n",
       "    </tr>\n",
       "  </thead>\n",
       "  <tbody>\n",
       "    <tr>\n",
       "      <th>count</th>\n",
       "      <td>100.000000</td>\n",
       "      <td>100.000000</td>\n",
       "      <td>100.000000</td>\n",
       "      <td>100.000000</td>\n",
       "    </tr>\n",
       "    <tr>\n",
       "      <th>mean</th>\n",
       "      <td>0.124390</td>\n",
       "      <td>0.094290</td>\n",
       "      <td>0.781250</td>\n",
       "      <td>0.088865</td>\n",
       "    </tr>\n",
       "    <tr>\n",
       "      <th>std</th>\n",
       "      <td>0.092825</td>\n",
       "      <td>0.085238</td>\n",
       "      <td>0.100845</td>\n",
       "      <td>0.554731</td>\n",
       "    </tr>\n",
       "    <tr>\n",
       "      <th>min</th>\n",
       "      <td>0.000000</td>\n",
       "      <td>0.000000</td>\n",
       "      <td>0.549000</td>\n",
       "      <td>-0.892500</td>\n",
       "    </tr>\n",
       "    <tr>\n",
       "      <th>25%</th>\n",
       "      <td>0.051750</td>\n",
       "      <td>0.000000</td>\n",
       "      <td>0.720750</td>\n",
       "      <td>-0.377975</td>\n",
       "    </tr>\n",
       "    <tr>\n",
       "      <th>50%</th>\n",
       "      <td>0.124500</td>\n",
       "      <td>0.084500</td>\n",
       "      <td>0.762000</td>\n",
       "      <td>0.077150</td>\n",
       "    </tr>\n",
       "    <tr>\n",
       "      <th>75%</th>\n",
       "      <td>0.173000</td>\n",
       "      <td>0.144000</td>\n",
       "      <td>0.852750</td>\n",
       "      <td>0.582025</td>\n",
       "    </tr>\n",
       "    <tr>\n",
       "      <th>max</th>\n",
       "      <td>0.451000</td>\n",
       "      <td>0.333000</td>\n",
       "      <td>1.000000</td>\n",
       "      <td>0.960100</td>\n",
       "    </tr>\n",
       "  </tbody>\n",
       "</table>\n",
       "</div>"
      ],
      "text/plain": [
       "              pos         neg         neu    compound\n",
       "count  100.000000  100.000000  100.000000  100.000000\n",
       "mean     0.124390    0.094290    0.781250    0.088865\n",
       "std      0.092825    0.085238    0.100845    0.554731\n",
       "min      0.000000    0.000000    0.549000   -0.892500\n",
       "25%      0.051750    0.000000    0.720750   -0.377975\n",
       "50%      0.124500    0.084500    0.762000    0.077150\n",
       "75%      0.173000    0.144000    0.852750    0.582025\n",
       "max      0.451000    0.333000    1.000000    0.960100"
      ]
     },
     "execution_count": 72,
     "metadata": {},
     "output_type": "execute_result"
    }
   ],
   "source": [
    "biden_df.describe()"
   ]
  },
  {
   "cell_type": "code",
   "execution_count": 79,
   "metadata": {
    "ExecuteTime": {
     "end_time": "2020-04-19T00:54:10.637794Z",
     "start_time": "2020-04-19T00:54:10.530331Z"
    },
    "code_folding": [
     0
    ]
   },
   "outputs": [
    {
     "data": {
      "image/png": "[encoded data removed]",
      "text/plain": [
       "<Figure size 864x432 with 1 Axes>"
      ]
     },
     "metadata": {},
     "output_type": "display_data"
    }
   ],
   "source": [
    "# trump tweets \n",
    "fig, ax = plt.subplots( figsize=(12,6))\n",
    "\n",
    "ax.set_title('Trump Positive Sentiment vs. Time')\n",
    "ax.xaxis.set_minor_locator(mdates.DayLocator(interval=1))\n",
    "ax.xaxis.set_major_locator(mdates.DayLocator(interval=5))\n",
    "ax.xaxis.set_major_formatter(mdates.DateFormatter('%Y-%m-%d'))\n",
    "\n",
    "ax.plot(trump_df['Created'], trump_df['pos'])\n",
    "\n",
    "fig.autofmt_xdate()\n",
    "\n",
    "plt.show()"
   ]
  },
  {
   "cell_type": "code",
   "execution_count": 82,
   "metadata": {
    "ExecuteTime": {
     "end_time": "2020-04-19T00:54:35.627189Z",
     "start_time": "2020-04-19T00:54:35.517039Z"
    },
    "code_folding": [
     0
    ]
   },
   "outputs": [
    {
     "data": {
      "image/png": "[encoded data removed]",
      "text/plain": [
       "<Figure size 864x432 with 1 Axes>"
      ]
     },
     "metadata": {},
     "output_type": "display_data"
    }
   ],
   "source": [
    "# biden tweets\n",
    "fig, ax = plt.subplots( figsize=(12,6))\n",
    "\n",
    "ax.set_title('Biden Positive Sentiment vs. Time')\n",
    "ax.xaxis.set_minor_locator(mdates.DayLocator(interval=1))\n",
    "ax.xaxis.set_major_locator(mdates.DayLocator(interval=5))\n",
    "ax.xaxis.set_major_formatter(mdates.DateFormatter('%Y-%m-%d'))\n",
    "\n",
    "ax.plot(biden_df['Created'], biden_df['pos'])\n",
    "\n",
    "fig.autofmt_xdate()\n",
    "\n",
    "plt.show()"
   ]
  },
  {
   "cell_type": "code",
   "execution_count": null,
   "metadata": {
    "code_folding": [
     0
    ]
   },
   "outputs": [],
   "source": [
    "# plotting positive and neg scores, whichever is greater\n"
   ]
  }
 ],
 "metadata": {
  "kernelspec": {
   "display_name": "Python 3",
   "language": "python",
   "name": "python3"
  },
  "language_info": {
   "codemirror_mode": {
    "name": "ipython",
    "version": 3
   },
   "file_extension": ".py",
   "mimetype": "text/x-python",
   "name": "python",
   "nbconvert_exporter": "python",
   "pygments_lexer": "ipython3",
   "version": "3.8.2"
  },
  "varInspector": {
   "cols": {
    "lenName": 16,
    "lenType": 16,
    "lenVar": 40
   },
   "kernels_config": {
    "python": {
     "delete_cmd_postfix": "",
     "delete_cmd_prefix": "del ",
     "library": "var_list.py",
     "varRefreshCmd": "print(var_dic_list())"
    },
    "r": {
     "delete_cmd_postfix": ") ",
     "delete_cmd_prefix": "rm(",
     "library": "var_list.r",
     "varRefreshCmd": "cat(var_dic_list()) "
    }
   },
   "types_to_exclude": [
    "module",
    "function",
    "builtin_function_or_method",
    "instance",
    "_Feature"
   ],
   "window_display": false
  }
 },
 "nbformat": 4,
 "nbformat_minor": 4
}
