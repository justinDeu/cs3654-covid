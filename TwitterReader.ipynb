{
 "cells": [
  {
   "cell_type": "markdown",
   "metadata": {},
   "source": [
    "Justin Deustch, Emily Lawson, Matthew Pinho\n",
    "CMDA 3654\n",
    "Project"
   ]
  },
  {
   "cell_type": "code",
   "execution_count": 6,
   "metadata": {},
   "outputs": [],
   "source": [
    "import pandas\n",
    "import json\n",
    "from pprint import pprint\n",
    "import tweepy\n",
    "\n",
    "def loadKeys(key_file):\n",
    "    with open('keys.json') as f:\n",
    "        key_dict = json.load(f)\n",
    "    return key_dict['api_key'], key_dict['api_secret'], key_dict['token'], key_dict['token_secret']\n",
    "\n",
    "KEY_FILE = 'keys.json'\n",
    "[api_key, api_secret, token, token_secret] = loadKeys(KEY_FILE)\n",
    "auth = tweepy.OAuthHandler(api_key, api_secret)\n",
    "def appendTweet(frame,tweet):\n",
    "    row = [tweet.user.name,tweet.user.screen_name,tweet.full_text,tweet.favorite_count,\n",
    "           tweet.created_at,tweet.retweet_count,tweet.retweeted,'media' in tweet.entities]\n",
    "    row_series = pandas.Series(row, index = frame.columns)\n",
    "    frame = frame.append(row_series, ignore_index=True)\n",
    "    return frameauth.set_access_token(token, token_secret)\n",
    "api = tweepy.API(auth, wait_on_rate_limit=True)"
   ]
  },
  {
   "cell_type": "code",
   "execution_count": null,
   "metadata": {},
   "outputs": [],
   "source": [
    "def appendTweet(data,tweet):\n",
    "    row = [tweet.user.name,tweet.user.screen_name,tweet.full_text,\n",
    "           tweet.created_at,tweet.favorite_count,tweet.retweet_count,tweet.retweeted,'media' in tweet.entities]\n",
    "    row_series = pandas.Series(row, index = data.columns)\n",
    "    data = data.append(row_series, ignore_index=True)\n",
    "    return data\n",
    "\n",
    "def getTweetsSince(since_id,username,data):\n",
    "    page = 1\n",
    "    while True:\n",
    "        tweets = api.user_timeline(id=username,page=page,tweet_mode='extended')\n",
    "        if tweets and str(tweets[-1].created_at) > since_id:\n",
    "            for tweet in tweets:\n",
    "                data = appendTweet(data,tweet)\n",
    "        else:\n",
    "            return data\n",
    "        page += 1"
   ]
  },
  {
   "cell_type": "code",
   "execution_count": 132,
   "metadata": {},
   "outputs": [],
   "source": [
    "politicians = [\"@realDonaldTrump\",\"@GovRonDeSantis\",\"@marcorubio\",\"@JoeBiden\",\"@NYGovCuomo\",\"@BernieSanders\"]\n",
    "data = pandas.DataFrame(columns=[\"Name\",\"Username\",\"Text\",\"Created\",\n",
    "                                 \"Favorite Count\",\"Retweet Count\",\"Retweeted\",\"Media Attached\"])\n",
    "since_id = '2020-03-01'\n",
    "for username in politicians:\n",
    "    data = getTweetsSince(since_id,username,data)\n",
    "data.to_csv('six_politicians')"
   ]
  }
 ],
 "metadata": {
  "hide_input": false,
  "kernelspec": {
   "display_name": "Python 3",
   "language": "python",
   "name": "python3"
  },
  "language_info": {
   "codemirror_mode": {
    "name": "ipython",
    "version": 3
   },
   "file_extension": ".py",
   "mimetype": "text/x-python",
   "name": "python",
   "nbconvert_exporter": "python",
   "pygments_lexer": "ipython3",
   "version": "3.7.6"
  }
 },
 "nbformat": 4,
 "nbformat_minor": 4
}
