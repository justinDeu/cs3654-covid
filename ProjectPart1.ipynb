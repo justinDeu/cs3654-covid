{
 "cells": [
  {
   "cell_type": "markdown",
   "metadata": {},
   "source": [
    "<h1>The Political Role of COVID-19</h1>\n",
    "\n",
    "Group 3: Justin Deutsch, Djustin8; Emily Lawson, emily03; Matthew Pinho, mpinho16\n",
    "\n",
    "The COVID-19 pandemic has people flooding the internet with updates, facts, and opinions but peoples opinions can differ, change over time, align with their political parties or none of the above creating a lot of confusion. Now is not the time for indecisiveness, debate, and disagreement. The economy, people’s livelihoods, and most importantly people’s lives are at stake. \n",
    "\n",
    "Therefore, Group 3 will evaluate, and analyze the growth over time of the political relevance of COVID-19 as well as compare and contrast the sentiments and the perspective of the major political figures on the pandemic of both major political parties.\n",
    "\n",
    "We want to know how have sentiments changed about the pandemic crisis over time generally and party-wise? How has the vocabulary changed? How different do Democrats and Republicans think? As well as how loyal are their members to their party’s viewpoints?\n",
    "\n",
    "<h2> Step 1 </h2>\n",
    "\n",
    "First we gathered all Tweets from 6 political representatives (3 from each party) from the beginning of March up until April 19th."
   ]
  },
  {
   "cell_type": "code",
   "execution_count": 1,
   "metadata": {},
   "outputs": [],
   "source": [
    "def appendTweet(data,tweet):\n",
    "    row = [tweet.user.name,tweet.user.screen_name,tweet.full_text,\n",
    "           tweet.created_at,tweet.favorite_count,tweet.retweet_count,hasattr(tweet, 'retweeted_status'),\n",
    "           'media' in tweet.entities]\n",
    "    row_series = pandas.Series(row, index = data.columns)\n",
    "    data = data.append(row_series, ignore_index=True)\n",
    "    return data\n",
    "\n",
    "def getTweetsSince(since_id,username,data):\n",
    "    page = 1\n",
    "    while True:\n",
    "        tweets = api.user_timeline(id=username,page=page,tweet_mode='extended')\n",
    "        if tweets and str(tweets[-1].created_at) > since_id:\n",
    "            for tweet in tweets:\n",
    "                data = appendTweet(data,tweet)\n",
    "        else:\n",
    "            return data\n",
    "        page += 1"
   ]
  },
  {
   "cell_type": "markdown",
   "metadata": {},
   "source": [
    "<h3> Step 2 </h3>\n",
    "\n",
    "Next we filtered the Tweets using a bag of words to find only the ones relevant to the pandemic"
   ]
  },
  {
   "cell_type": "code",
   "execution_count": null,
   "metadata": {},
   "outputs": [],
   "source": []
  }
 ],
 "metadata": {
  "kernelspec": {
   "display_name": "Python 3",
   "language": "python",
   "name": "python3"
  },
  "language_info": {
   "codemirror_mode": {
    "name": "ipython",
    "version": 3
   },
   "file_extension": ".py",
   "mimetype": "text/x-python",
   "name": "python",
   "nbconvert_exporter": "python",
   "pygments_lexer": "ipython3",
   "version": "3.7.6"
  }
 },
 "nbformat": 4,
 "nbformat_minor": 2
}
