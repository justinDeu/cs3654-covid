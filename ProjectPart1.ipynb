{
 "cells": [
  {
   "cell_type": "markdown",
   "metadata": {},
   "source": [
    "<h1>The Political Role of COVID-19</h1>\n",
    "\n",
    "Group 3: Justin Deutsch, Djustin8; Emily Lawson, emily03; Matthew Pinho, mpinho16\n",
    "\n",
    "The COVID-19 pandemic has people flooding the internet with updates, facts, and opinions but peoples opinions can differ, change over time, align with their political parties or none of the above creating a lot of confusion. Now is not the time for indecisiveness, debate, and disagreement. The economy, people’s livelihoods, and most importantly people’s lives are at stake. \n",
    "\n",
    "Therefore, Group 3 will evaluate, and analyze the growth over time of the political relevance of COVID-19 as well as compare and contrast the sentiments and the perspective of the major political figures on the pandemic of both major political parties.\n",
    "\n",
    "We want to know how have sentiments changed about the pandemic crisis over time generally and party-wise? How has the vocabulary changed? How different do Democrats and Republicans think? As well as how loyal are their members to their party’s viewpoints?\n",
    "\n",
    "<h2> Step 1 </h2>\n",
    "\n",
    "First we gathered all Tweets from 6 political representatives (3 from each party) from the beginning of March up until April 19th."
   ]
  },
  {
   "cell_type": "code",
   "execution_count": 1,
   "metadata": {},
   "outputs": [],
   "source": [
    "def appendTweet(data,tweet):\n",
    "    row = [tweet.user.name,tweet.user.screen_name,tweet.full_text,\n",
    "           tweet.created_at,tweet.favorite_count,tweet.retweet_count,hasattr(tweet, 'retweeted_status'),\n",
    "           'media' in tweet.entities]\n",
    "    row_series = pandas.Series(row, index = data.columns)\n",
    "    data = data.append(row_series, ignore_index=True)\n",
    "    return data\n",
    "\n",
    "def getTweetsSince(since_id,username,data):\n",
    "    page = 1\n",
    "    while True:\n",
    "        tweets = api.user_timeline(id=username,page=page,tweet_mode='extended')\n",
    "        if tweets and str(tweets[-1].created_at) > since_id:\n",
    "            for tweet in tweets:\n",
    "                data = appendTweet(data,tweet)\n",
    "        else:\n",
    "            return data\n",
    "        page += 1"
   ]
  },
  {
   "cell_type": "markdown",
   "metadata": {},
   "source": [
    "<h3> Step 2 </h3>\n",
    "\n",
    "Next we filtered the Tweets using a bag of words to find only the ones relevant to the pandemic"
   ]
  },
  {
   "cell_type": "markdown",
   "metadata": {},
   "source": [
    "## Loading Data"
   ]
  },
  {
   "cell_type": "code",
   "execution_count": 100,
   "metadata": {
    "ExecuteTime": {
     "end_time": "2020-04-21T00:59:56.050010Z",
     "start_time": "2020-04-21T00:59:56.047488Z"
    }
   },
   "outputs": [],
   "source": [
    "# Loading in the data from FILE\n",
    "DATA_FILE = './six_politicians.csv'"
   ]
  },
  {
   "cell_type": "code",
   "execution_count": 101,
   "metadata": {
    "ExecuteTime": {
     "end_time": "2020-04-21T00:59:57.196688Z",
     "start_time": "2020-04-21T00:59:57.180544Z"
    }
   },
   "outputs": [
    {
     "data": {
      "text/plain": [
       "((2498, 8),\n",
       " Name                      object\n",
       " Username                  object\n",
       " Text                      object\n",
       " Created           datetime64[ns]\n",
       " Favorite Count             int64\n",
       " Retweet Count              int64\n",
       " Retweeted                   bool\n",
       " Media Attached              bool\n",
       " dtype: object)"
      ]
     },
     "execution_count": 101,
     "metadata": {},
     "output_type": "execute_result"
    }
   ],
   "source": [
    "# Reading the data \n",
    "df = pd.read_csv(DATA_FILE, index_col=0)\n",
    "\n",
    "# Converting the data Created to a datetime object\n",
    "df['Created'] = pd.to_datetime(df['Created'])\n",
    "\n",
    "df.shape, df.dtypes"
   ]
  },
  {
   "cell_type": "code",
   "execution_count": 102,
   "metadata": {
    "ExecuteTime": {
     "end_time": "2020-04-21T01:00:00.264125Z",
     "start_time": "2020-04-21T01:00:00.257825Z"
    }
   },
   "outputs": [
    {
     "name": "stdout",
     "output_type": "stream",
     "text": [
      "                Name ---> Twitter Handle\n",
      "----------------------------------------\n",
      "     Donald J. Trump ---> realDonaldTrump\n",
      "        Ron DeSantis ---> GovRonDeSantis\n",
      "         Marco Rubio ---> marcorubio\n",
      "           Joe Biden ---> JoeBiden\n",
      "        Andrew Cuomo ---> NYGovCuomo\n",
      "      Bernie Sanders ---> BernieSanders\n"
     ]
    }
   ],
   "source": [
    "# Displaying the list of people and their twitter handles\n",
    "names_handles = zip(df['Name'].unique().tolist(), df['Username'].unique().tolist())\n",
    "\n",
    "print(f\"{'Name':>20} ---> Twitter Handle\")\n",
    "print('----------------------------------------')\n",
    "for n, h in names_handles:\n",
    "    print(f'{n:>20} ---> {h}')"
   ]
  },
  {
   "cell_type": "code",
   "execution_count": 103,
   "metadata": {
    "ExecuteTime": {
     "end_time": "2020-04-21T01:00:02.416593Z",
     "start_time": "2020-04-21T01:00:02.404390Z"
    }
   },
   "outputs": [
    {
     "data": {
      "text/html": [
       "<div>\n",
       "<style scoped>\n",
       "    .dataframe tbody tr th:only-of-type {\n",
       "        vertical-align: middle;\n",
       "    }\n",
       "\n",
       "    .dataframe tbody tr th {\n",
       "        vertical-align: top;\n",
       "    }\n",
       "\n",
       "    .dataframe thead th {\n",
       "        text-align: right;\n",
       "    }\n",
       "</style>\n",
       "<table border=\"1\" class=\"dataframe\">\n",
       "  <thead>\n",
       "    <tr style=\"text-align: right;\">\n",
       "      <th></th>\n",
       "      <th>Name</th>\n",
       "      <th>Username</th>\n",
       "      <th>Text</th>\n",
       "      <th>Created</th>\n",
       "      <th>Favorite Count</th>\n",
       "      <th>Retweet Count</th>\n",
       "      <th>Retweeted</th>\n",
       "      <th>Media Attached</th>\n",
       "    </tr>\n",
       "  </thead>\n",
       "  <tbody>\n",
       "    <tr>\n",
       "      <th>0</th>\n",
       "      <td>Donald J. Trump</td>\n",
       "      <td>realDonaldTrump</td>\n",
       "      <td>RT @WhiteHouse: LIVE: Press Briefing with Coro...</td>\n",
       "      <td>2020-04-19 22:25:08</td>\n",
       "      <td>0</td>\n",
       "      <td>3060</td>\n",
       "      <td>False</td>\n",
       "      <td>False</td>\n",
       "    </tr>\n",
       "    <tr>\n",
       "      <th>1</th>\n",
       "      <td>Donald J. Trump</td>\n",
       "      <td>realDonaldTrump</td>\n",
       "      <td>White House News Conference at 5:45. Thank you!</td>\n",
       "      <td>2020-04-19 20:13:28</td>\n",
       "      <td>62328</td>\n",
       "      <td>12827</td>\n",
       "      <td>False</td>\n",
       "      <td>False</td>\n",
       "    </tr>\n",
       "    <tr>\n",
       "      <th>2</th>\n",
       "      <td>Donald J. Trump</td>\n",
       "      <td>realDonaldTrump</td>\n",
       "      <td>Thank you to my boy! https://t.co/GAFe1AdZpt</td>\n",
       "      <td>2020-04-19 19:38:09</td>\n",
       "      <td>70865</td>\n",
       "      <td>25015</td>\n",
       "      <td>False</td>\n",
       "      <td>False</td>\n",
       "    </tr>\n",
       "    <tr>\n",
       "      <th>3</th>\n",
       "      <td>Donald J. Trump</td>\n",
       "      <td>realDonaldTrump</td>\n",
       "      <td>“On February 19th there was a Democratic Debat...</td>\n",
       "      <td>2020-04-19 19:18:05</td>\n",
       "      <td>63158</td>\n",
       "      <td>19546</td>\n",
       "      <td>False</td>\n",
       "      <td>False</td>\n",
       "    </tr>\n",
       "    <tr>\n",
       "      <th>4</th>\n",
       "      <td>Donald J. Trump</td>\n",
       "      <td>realDonaldTrump</td>\n",
       "      <td>Great book by @SenatorTimScott! https://t.co/9...</td>\n",
       "      <td>2020-04-19 19:15:28</td>\n",
       "      <td>20342</td>\n",
       "      <td>5419</td>\n",
       "      <td>False</td>\n",
       "      <td>False</td>\n",
       "    </tr>\n",
       "  </tbody>\n",
       "</table>\n",
       "</div>"
      ],
      "text/plain": [
       "              Name         Username  \\\n",
       "0  Donald J. Trump  realDonaldTrump   \n",
       "1  Donald J. Trump  realDonaldTrump   \n",
       "2  Donald J. Trump  realDonaldTrump   \n",
       "3  Donald J. Trump  realDonaldTrump   \n",
       "4  Donald J. Trump  realDonaldTrump   \n",
       "\n",
       "                                                Text             Created  \\\n",
       "0  RT @WhiteHouse: LIVE: Press Briefing with Coro... 2020-04-19 22:25:08   \n",
       "1    White House News Conference at 5:45. Thank you! 2020-04-19 20:13:28   \n",
       "2       Thank you to my boy! https://t.co/GAFe1AdZpt 2020-04-19 19:38:09   \n",
       "3  “On February 19th there was a Democratic Debat... 2020-04-19 19:18:05   \n",
       "4  Great book by @SenatorTimScott! https://t.co/9... 2020-04-19 19:15:28   \n",
       "\n",
       "   Favorite Count  Retweet Count  Retweeted  Media Attached  \n",
       "0               0           3060      False           False  \n",
       "1           62328          12827      False           False  \n",
       "2           70865          25015      False           False  \n",
       "3           63158          19546      False           False  \n",
       "4           20342           5419      False           False  "
      ]
     },
     "execution_count": 103,
     "metadata": {},
     "output_type": "execute_result"
    }
   ],
   "source": [
    "df.head()"
   ]
  },
  {
   "cell_type": "markdown",
   "metadata": {},
   "source": [
    "## Preprocessing"
   ]
  },
  {
   "cell_type": "markdown",
   "metadata": {},
   "source": [
    "### Removing Keywords"
   ]
  },
  {
   "cell_type": "code",
   "execution_count": 104,
   "metadata": {
    "ExecuteTime": {
     "end_time": "2020-04-21T01:00:06.297696Z",
     "start_time": "2020-04-21T01:00:06.295168Z"
    }
   },
   "outputs": [],
   "source": [
    "KEYWORD_FILE = './covid_keywords.txt'"
   ]
  },
  {
   "cell_type": "code",
   "execution_count": 193,
   "metadata": {
    "ExecuteTime": {
     "end_time": "2020-04-21T16:21:54.471218Z",
     "start_time": "2020-04-21T16:21:54.465305Z"
    }
   },
   "outputs": [
    {
     "data": {
      "text/plain": [
       "(61, ['unemployment', 'front line', 'testing', 'health', 'public health'])"
      ]
     },
     "execution_count": 193,
     "metadata": {},
     "output_type": "execute_result"
    }
   ],
   "source": [
    "# Loading keywords\n",
    "keywords = []\n",
    "\n",
    "with open(KEYWORD_FILE, 'r') as f:\n",
    "    line = f.readline()\n",
    "    while line:\n",
    "        keywords.append(line.strip().lower())\n",
    "        line = f.readline()\n",
    "\n",
    "len(keywords), keywords[:5]"
   ]
  },
  {
   "cell_type": "code",
   "execution_count": 204,
   "metadata": {
    "ExecuteTime": {
     "end_time": "2020-04-21T16:30:18.696055Z",
     "start_time": "2020-04-21T16:30:18.644854Z"
    }
   },
   "outputs": [
    {
     "data": {
      "text/plain": [
       "((2498, 8), (1174, 8))"
      ]
     },
     "execution_count": 204,
     "metadata": {},
     "output_type": "execute_result"
    }
   ],
   "source": [
    "# Making keywords regex safe then filtering df by them\n",
    "safe_keywords = [re.escape(word) for word in keywords]\n",
    "clean_df = df[df['Text'].str.lower().str.contains('|'.join(safe_keywords))].copy()\n",
    "\n",
    "df.shape, clean_df.shape"
   ]
  },
  {
   "cell_type": "markdown",
   "metadata": {},
   "source": [
    "# Analysis"
   ]
  },
  {
   "cell_type": "markdown",
   "metadata": {},
   "source": [
    "## Summary Statistics"
   ]
  },
  {
   "cell_type": "markdown",
   "metadata": {},
   "source": [
    "### Count of Covid Tweets"
   ]
  },
  {
   "cell_type": "code",
   "execution_count": 73,
   "metadata": {
    "ExecuteTime": {
     "end_time": "2020-04-20T16:12:57.637674Z",
     "start_time": "2020-04-20T16:12:57.633844Z"
    }
   },
   "outputs": [],
   "source": [
    "# counts tweets per user\n",
    "def count_tweets_per_user(df):\n",
    "    counts = []\n",
    "    \n",
    "    for user in df['Username'].unique():\n",
    "        counts.append((user, df[df['Username'] == user].shape[0]))\n",
    "    \n",
    "    return counts"
   ]
  },
  {
   "cell_type": "code",
   "execution_count": 198,
   "metadata": {
    "ExecuteTime": {
     "end_time": "2020-04-21T16:22:49.905091Z",
     "start_time": "2020-04-21T16:22:49.884849Z"
    }
   },
   "outputs": [
    {
     "data": {
      "text/plain": [
       "[('BernieSanders', 558, 250),\n",
       " ('GovRonDeSantis', 40, 16),\n",
       " ('JoeBiden', 500, 253),\n",
       " ('NYGovCuomo', 620, 407),\n",
       " ('marcorubio', 480, 161),\n",
       " ('realDonaldTrump', 300, 87)]"
      ]
     },
     "execution_count": 198,
     "metadata": {},
     "output_type": "execute_result"
    }
   ],
   "source": [
    "from itertools import groupby\n",
    "\n",
    "# counting tweets for each user before/after filtering by keywords\n",
    "num_tweets_before_filtering = count_tweets_per_user(df)\n",
    "num_tweets_after_filtering = count_tweets_per_user(clean_df)\n",
    "\n",
    "# joining the two lists together \n",
    "num_tweets_before_after = num_tweets_before_filtering + num_tweets_after_filtering\n",
    "\n",
    "# sorting by username so users' counts are next to each other, needed for groupby\n",
    "num_tweets_before_after = sorted(num_tweets_before_after)\n",
    "\n",
    "d = groupby(num_tweets_before_after, lambda x: x[0])\n",
    "counts = []\n",
    "\n",
    "for x in d:\n",
    "    f = next(x[1])[1]\n",
    "    s = next(x[1])[1]\n",
    "    counts.append((x[0], max(f, s), min(f, s)))\n",
    "\n",
    "counts"
   ]
  },
  {
   "cell_type": "code",
   "execution_count": 199,
   "metadata": {
    "ExecuteTime": {
     "end_time": "2020-04-21T16:22:55.329469Z",
     "start_time": "2020-04-21T16:22:55.325696Z"
    }
   },
   "outputs": [
    {
     "name": "stdout",
     "output_type": "stream",
     "text": [
      "BernieSanders: 44.80%\n",
      "GovRonDeSantis: 40.00%\n",
      "JoeBiden: 50.60%\n",
      "NYGovCuomo: 65.65%\n",
      "marcorubio: 33.54%\n",
      "realDonaldTrump: 29.00%\n"
     ]
    }
   ],
   "source": [
    "# Percent tweets that are covid related:\n",
    "for entry in counts:\n",
    "    print(f'{entry[0]}: {min(entry[1], entry[2]) / max(entry[1], entry[2]):.2%}')"
   ]
  },
  {
   "cell_type": "markdown",
   "metadata": {},
   "source": [
    "### Word and Character Counts"
   ]
  },
  {
   "cell_type": "code",
   "execution_count": 208,
   "metadata": {
    "ExecuteTime": {
     "end_time": "2020-04-21T16:33:06.780621Z",
     "start_time": "2020-04-21T16:33:06.771636Z"
    }
   },
   "outputs": [],
   "source": [
    "clean_df['num_chars'] = clean_df['Text'].map(len)\n",
    "clean_df['word_count'] = clean_df['Text'].map(lambda x: len(x.split()))     # this isn't robust against not,very,well,written,tweets\n",
    "                                                                            # should change this to use regular expression or library "
   ]
  },
  {
   "cell_type": "code",
   "execution_count": 209,
   "metadata": {
    "ExecuteTime": {
     "end_time": "2020-04-21T16:33:58.186929Z",
     "start_time": "2020-04-21T16:33:58.170343Z"
    }
   },
   "outputs": [
    {
     "data": {
      "text/html": [
       "<div>\n",
       "<style scoped>\n",
       "    .dataframe tbody tr th:only-of-type {\n",
       "        vertical-align: middle;\n",
       "    }\n",
       "\n",
       "    .dataframe tbody tr th {\n",
       "        vertical-align: top;\n",
       "    }\n",
       "\n",
       "    .dataframe thead th {\n",
       "        text-align: right;\n",
       "    }\n",
       "</style>\n",
       "<table border=\"1\" class=\"dataframe\">\n",
       "  <thead>\n",
       "    <tr style=\"text-align: right;\">\n",
       "      <th></th>\n",
       "      <th>num_chars</th>\n",
       "      <th>word_count</th>\n",
       "    </tr>\n",
       "  </thead>\n",
       "  <tbody>\n",
       "    <tr>\n",
       "      <th>count</th>\n",
       "      <td>1174.000000</td>\n",
       "      <td>1174.000000</td>\n",
       "    </tr>\n",
       "    <tr>\n",
       "      <th>mean</th>\n",
       "      <td>209.552811</td>\n",
       "      <td>33.672061</td>\n",
       "    </tr>\n",
       "    <tr>\n",
       "      <th>std</th>\n",
       "      <td>68.383854</td>\n",
       "      <td>11.937988</td>\n",
       "    </tr>\n",
       "    <tr>\n",
       "      <th>min</th>\n",
       "      <td>29.000000</td>\n",
       "      <td>3.000000</td>\n",
       "    </tr>\n",
       "    <tr>\n",
       "      <th>25%</th>\n",
       "      <td>144.000000</td>\n",
       "      <td>24.000000</td>\n",
       "    </tr>\n",
       "    <tr>\n",
       "      <th>50%</th>\n",
       "      <td>227.000000</td>\n",
       "      <td>36.000000</td>\n",
       "    </tr>\n",
       "    <tr>\n",
       "      <th>75%</th>\n",
       "      <td>273.000000</td>\n",
       "      <td>43.750000</td>\n",
       "    </tr>\n",
       "    <tr>\n",
       "      <th>max</th>\n",
       "      <td>333.000000</td>\n",
       "      <td>57.000000</td>\n",
       "    </tr>\n",
       "  </tbody>\n",
       "</table>\n",
       "</div>"
      ],
      "text/plain": [
       "         num_chars   word_count\n",
       "count  1174.000000  1174.000000\n",
       "mean    209.552811    33.672061\n",
       "std      68.383854    11.937988\n",
       "min      29.000000     3.000000\n",
       "25%     144.000000    24.000000\n",
       "50%     227.000000    36.000000\n",
       "75%     273.000000    43.750000\n",
       "max     333.000000    57.000000"
      ]
     },
     "execution_count": 209,
     "metadata": {},
     "output_type": "execute_result"
    }
   ],
   "source": [
    "clean_df[['num_chars', 'word_count']].describe()"
   ]
  },
  {
   "cell_type": "code",
   "execution_count": null,
   "metadata": {},
   "outputs": [],
   "source": [
    "## Loading Data\n",
    "\n",
    "# Loading in the data from FILE\n",
    "DATA_FILE = './six_politicians.csv'\n",
    "\n",
    "# Reading the data \n",
    "df = pd.read_csv(DATA_FILE, index_col=0)\n",
    "\n",
    "# Converting the data Created to a datetime object\n",
    "df['Created'] = pd.to_datetime(df['Created'])\n",
    "\n",
    "df.shape, df.dtypes\n",
    "\n",
    "# Displaying the list of people and their twitter handles\n",
    "names_handles = zip(df['Name'].unique().tolist(), df['Username'].unique().tolist())\n",
    "\n",
    "print(f\"{'Name':>20} ---> Twitter Handle\")\n",
    "print('----------------------------------------')\n",
    "for n, h in names_handles:\n",
    "    print(f'{n:>20} ---> {h}')\n",
    "\n",
    "df.head()\n",
    "\n",
    "## Preprocessing\n",
    "\n",
    "### Removing Keywords\n",
    "\n",
    "KEYWORD_FILE = './covid_keywords.txt'\n",
    "\n",
    "# Loading keywords\n",
    "keywords = []\n",
    "\n",
    "with open(KEYWORD_FILE, 'r') as f:\n",
    "    line = f.readline()\n",
    "    while line:\n",
    "        keywords.append(line.strip().lower())\n",
    "        line = f.readline()\n",
    "\n",
    "len(keywords), keywords[:5]\n",
    "\n",
    "# Making keywords regex safe then filtering df by them\n",
    "safe_keywords = [re.escape(word) for word in keywords]\n",
    "clean_df = df[df['Text'].str.lower().str.contains('|'.join(safe_keywords))].copy()\n",
    "\n",
    "df.shape, clean_df.shape"
   ]
  }
 ],
 "metadata": {
  "kernelspec": {
   "display_name": "Python 3",
   "language": "python",
   "name": "python3"
  },
  "language_info": {
   "codemirror_mode": {
    "name": "ipython",
    "version": 3
   },
   "file_extension": ".py",
   "mimetype": "text/x-python",
   "name": "python",
   "nbconvert_exporter": "python",
   "pygments_lexer": "ipython3",
   "version": "3.8.2"
  },
  "varInspector": {
   "cols": {
    "lenName": 16,
    "lenType": 16,
    "lenVar": 40
   },
   "kernels_config": {
    "python": {
     "delete_cmd_postfix": "",
     "delete_cmd_prefix": "del ",
     "library": "var_list.py",
     "varRefreshCmd": "print(var_dic_list())"
    },
    "r": {
     "delete_cmd_postfix": ") ",
     "delete_cmd_prefix": "rm(",
     "library": "var_list.r",
     "varRefreshCmd": "cat(var_dic_list()) "
    }
   },
   "types_to_exclude": [
    "module",
    "function",
    "builtin_function_or_method",
    "instance",
    "_Feature"
   ],
   "window_display": false
  }
 },
 "nbformat": 4,
 "nbformat_minor": 2
}
